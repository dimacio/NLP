{
  "cells": [
    {
      "cell_type": "markdown",
      "metadata": {
        "id": "pfa39F4lsLf3"
      },
      "source": [
        "<img src=\"https://github.com/hernancontigiani/ceia_memorias_especializacion/raw/master/Figures/logoFIUBA.jpg\" width=\"500\" align=\"center\">\n",
        "\n",
        "\n",
        "# Procesamiento de lenguaje natural\n",
        "## LSTM Bot QA"
      ]
    },
    {
      "cell_type": "markdown",
      "metadata": {
        "id": "ZqO0PRcFsPTe"
      },
      "source": [
        "### Datos\n",
        "El objecto es utilizar datos disponibles del challenge ConvAI2 (Conversational Intelligence Challenge 2) de conversaciones en inglés. Se construirá un BOT para responder a preguntas del usuario (QA).\\\n",
        "[LINK](http://convai.io/data/)"
      ]
    },
    {
      "cell_type": "code",
      "execution_count": 1,
      "metadata": {
        "id": "bDFC0I3j9oFD"
      },
      "outputs": [],
      "source": [
        "!pip install --upgrade --no-cache-dir gdown --quiet"
      ]
    },
    {
      "cell_type": "code",
      "source": [
        "!pip install keras.preprocessing\n",
        "\n"
      ],
      "metadata": {
        "colab": {
          "base_uri": "https://localhost:8080/"
        },
        "id": "-MeGdqgdtkU4",
        "outputId": "bedb26a1-fb0d-4c88-8f14-9eb8a18175ca"
      },
      "execution_count": 2,
      "outputs": [
        {
          "output_type": "stream",
          "name": "stdout",
          "text": [
            "Collecting keras.preprocessing\n",
            "  Downloading Keras_Preprocessing-1.1.2-py2.py3-none-any.whl.metadata (1.9 kB)\n",
            "Requirement already satisfied: numpy>=1.9.1 in /usr/local/lib/python3.11/dist-packages (from keras.preprocessing) (2.0.2)\n",
            "Requirement already satisfied: six>=1.9.0 in /usr/local/lib/python3.11/dist-packages (from keras.preprocessing) (1.17.0)\n",
            "Downloading Keras_Preprocessing-1.1.2-py2.py3-none-any.whl (42 kB)\n",
            "\u001b[?25l   \u001b[90m━━━━━━━━━━━━━━━━━━━━━━━━━━━━━━━━━━━━━━━━\u001b[0m \u001b[32m0.0/42.6 kB\u001b[0m \u001b[31m?\u001b[0m eta \u001b[36m-:--:--\u001b[0m\r\u001b[2K   \u001b[90m━━━━━━━━━━━━━━━━━━━━━━━━━━━━━━━━━━━━━━━━\u001b[0m \u001b[32m42.6/42.6 kB\u001b[0m \u001b[31m3.0 MB/s\u001b[0m eta \u001b[36m0:00:00\u001b[0m\n",
            "\u001b[?25hInstalling collected packages: keras.preprocessing\n",
            "Successfully installed keras.preprocessing-1.1.2\n"
          ]
        }
      ]
    },
    {
      "cell_type": "code",
      "source": [
        "!pip install contractions --quiet\n",
        "!pip install nltk --quiet"
      ],
      "metadata": {
        "colab": {
          "base_uri": "https://localhost:8080/"
        },
        "id": "08ngNKJvh70V",
        "outputId": "63502d51-dd4a-4d3c-9971-05410c8420db"
      },
      "execution_count": 3,
      "outputs": [
        {
          "output_type": "stream",
          "name": "stdout",
          "text": [
            "\u001b[?25l   \u001b[90m━━━━━━━━━━━━━━━━━━━━━━━━━━━━━━━━━━━━━━━━\u001b[0m \u001b[32m0.0/289.9 kB\u001b[0m \u001b[31m?\u001b[0m eta \u001b[36m-:--:--\u001b[0m\r\u001b[2K   \u001b[90m━━━━━━━━━━━━━━━━━━━━━━━━━━━━━━━━━━━━━━━━\u001b[0m \u001b[32m289.9/289.9 kB\u001b[0m \u001b[31m20.6 MB/s\u001b[0m eta \u001b[36m0:00:00\u001b[0m\n",
            "\u001b[?25h\u001b[?25l   \u001b[90m━━━━━━━━━━━━━━━━━━━━━━━━━━━━━━━━━━━━━━━━\u001b[0m \u001b[32m0.0/118.3 kB\u001b[0m \u001b[31m?\u001b[0m eta \u001b[36m-:--:--\u001b[0m\r\u001b[2K   \u001b[90m━━━━━━━━━━━━━━━━━━━━━━━━━━━━━━━━━━━━━━━━\u001b[0m \u001b[32m118.3/118.3 kB\u001b[0m \u001b[31m8.8 MB/s\u001b[0m eta \u001b[36m0:00:00\u001b[0m\n",
            "\u001b[?25h"
          ]
        }
      ]
    },
    {
      "cell_type": "code",
      "execution_count": 4,
      "metadata": {
        "id": "cq3YXak9sGHd"
      },
      "outputs": [],
      "source": [
        "import re\n",
        "import numpy as np\n",
        "import pandas as pd\n",
        "import json\n",
        "import os\n",
        "import gdown\n",
        "import contractions # For better contraction handling\n",
        "import nltk\n",
        "from nltk.stem import WordNetLemmatizer\n",
        "from nltk.tokenize import word_tokenize\n",
        "\n",
        "import tensorflow as tf\n",
        "from tensorflow.keras.preprocessing.text import Tokenizer\n",
        "from tensorflow.keras.utils import pad_sequences\n",
        "from tensorflow.keras.models import Model\n",
        "from tensorflow.keras.layers import Input, Embedding, LSTM, Dense, Dropout\n",
        "from tensorflow.keras.optimizers import Adam\n",
        "from sklearn.model_selection import train_test_split\n",
        "from tensorflow.keras.callbacks import EarlyStopping, ReduceLROnPlateau"
      ]
    },
    {
      "cell_type": "code",
      "source": [
        "# --- Configuration ---\n",
        "config = {\n",
        "    \"dataset_url\": 'https://drive.google.com/uc?id=1awUxYwImF84MIT5-jCaYAPe2QwSgS1hN&export=download',\n",
        "    \"dataset_filename\": 'data_volunteers.json',\n",
        "    \"glove_url\": \"http://nlp.stanford.edu/data/glove.6B.zip\",\n",
        "    \"glove_zip\": \"glove.6B.zip\",\n",
        "    \"glove_file\": \"glove.6B.100d.txt\",\n",
        "    \"embedding_dim\": 100,\n",
        "    \"max_vocab_size\": 15000, # Increased vocab size slightly\n",
        "    \"max_input_token_len\": 40, # Filter based on tokens now\n",
        "    \"max_output_token_len\": 40, # Filter based on tokens now\n",
        "    \"lstm_units\": 384, # Increased units slightly from 256\n",
        "    \"dropout_rate\": 0.3, # Added dropout\n",
        "    \"recurrent_dropout_rate\": 0.3, # Added recurrent dropout\n",
        "    \"batch_size\": 64,\n",
        "    \"epochs\": 100, # Increased epochs, but EarlyStopping will control duration\n",
        "    \"validation_split\": 0.2,\n",
        "    \"early_stopping_patience\": 10,\n",
        "    \"lr_plateau_patience\": 5,\n",
        "    \"lr_plateau_factor\": 0.2,\n",
        "}\n"
      ],
      "metadata": {
        "id": "-_NbH5B4iKXj"
      },
      "execution_count": 5,
      "outputs": []
    },
    {
      "cell_type": "code",
      "source": [
        "# --- Download NLTK Data\n",
        "import nltk\n",
        "try:\n",
        "    nltk.data.find('tokenizers/punkt')\n",
        "except LookupError:  # Catch LookupError for missing resource\n",
        "    nltk.download('punkt')\n",
        "try:\n",
        "    nltk.data.find('corpora/wordnet')\n",
        "except LookupError:  # Catch LookupError here as well\n",
        "    nltk.download('wordnet')"
      ],
      "metadata": {
        "colab": {
          "base_uri": "https://localhost:8080/"
        },
        "id": "_U7joyERiPTo",
        "outputId": "ec553640-3527-43ec-c281-01b8315fd4bb"
      },
      "execution_count": 8,
      "outputs": [
        {
          "output_type": "stream",
          "name": "stderr",
          "text": [
            "[nltk_data] Downloading package punkt to /root/nltk_data...\n",
            "[nltk_data]   Unzipping tokenizers/punkt.zip.\n",
            "[nltk_data] Downloading package wordnet to /root/nltk_data...\n"
          ]
        }
      ]
    },
    {
      "cell_type": "code",
      "execution_count": 10,
      "metadata": {
        "id": "RHNkUaPp6aYq"
      },
      "outputs": [],
      "source": [
        "# --- Helper Functions ---\n",
        "\n",
        "def download_file(url, output_filename, desc=\"file\"):\n",
        "    \"\"\"Downloads a file if it doesn't exist.\"\"\"\n",
        "    if not os.path.exists(output_filename):\n",
        "        print(f\"Downloading {desc}...\")\n",
        "        gdown.download(url, output_filename, quiet=False)\n",
        "    else:\n",
        "        print(f\"{desc} already downloaded: {output_filename}\")\n",
        "\n",
        "def download_and_extract_zip(url, output_zip, extracted_file, desc=\"zip file\"):\n",
        "    \"\"\"Downloads and extracts a zip file if the target file doesn't exist.\"\"\"\n",
        "    if not os.path.exists(extracted_file):\n",
        "        if not os.path.exists(output_zip):\n",
        "             print(f\"Downloading {desc}...\")\n",
        "             gdown.download(url, output_zip, quiet=False)\n",
        "        else:\n",
        "            print(f\"{desc} already downloaded: {output_zip}\")\n",
        "\n",
        "        print(f\"Extracting {output_zip}...\")\n",
        "        import zipfile\n",
        "        with zipfile.ZipFile(output_zip, 'r') as zip_ref:\n",
        "            zip_ref.extractall('.')\n",
        "        print(f\"Extracted to current directory.\")\n",
        "        if not os.path.exists(extracted_file):\n",
        "             print(f\"Warning: Expected extracted file {extracted_file} not found after extraction.\")\n",
        "    else:\n",
        "        print(f\"Required file already exists: {extracted_file}\")\n",
        "\n",
        "lemmatizer = WordNetLemmatizer()"
      ]
    },
    {
      "cell_type": "code",
      "execution_count": 11,
      "metadata": {
        "id": "WZy1-wgG-Rp7"
      },
      "outputs": [],
      "source": [
        "def clean_text(text):\n",
        "    \"\"\"\n",
        "    Cleans text data: lowercase, expand contractions, lemmatize, remove non-alphanumeric (keep spaces).\n",
        "    Handles the bug from the original script and uses lemmatization.\n",
        "    \"\"\"\n",
        "    text = text.lower()\n",
        "    # Expand contractions (more robustly)\n",
        "    text = contractions.fix(text)\n",
        "    # Lemmatize: asocio los token con raices comunes, como diferentes conjugaciones de un mismo verbo\n",
        "    tokens = word_tokenize(text)\n",
        "    lemmatized_tokens = [lemmatizer.lemmatize(token) for token in tokens]\n",
        "    text = ' '.join(lemmatized_tokens)\n",
        "    # Keep only alphanumeric and spaces, replace others with space\n",
        "    text = re.sub(r'[^a-z0-9\\s]', ' ', text)\n",
        "    # Remove extra spaces\n",
        "    text = re.sub(r'\\s+', ' ', text).strip()\n",
        "    return text\n",
        "\n",
        "\n"
      ]
    },
    {
      "cell_type": "code",
      "execution_count": 12,
      "metadata": {
        "id": "ue5qd54S-eew"
      },
      "outputs": [],
      "source": [
        "def load_and_preprocess_data(filename, max_input_len, max_output_len):\n",
        "    \"\"\"\n",
        "    Loads data, cleans text, creates input/output pairs, and filters by TOKEN length.\n",
        "    \"\"\"\n",
        "    print(\"Loading and preprocessing data...\")\n",
        "    with open(filename) as f:\n",
        "        data = json.load(f)\n",
        "\n",
        "    input_texts = []\n",
        "    output_texts_input = [] # Decoder input (<sos> + sentence)\n",
        "    output_texts_target = [] # Decoder target (sentence + <eos>)\n",
        "\n",
        "    skipped_count = 0\n",
        "    total_pairs = 0\n",
        "\n",
        "    for conversation in data:\n",
        "      #las pares con respuestas y las impares preguntas\n",
        "        for i in range(len(conversation['dialog']) - 1):\n",
        "            total_pairs += 1\n",
        "            input_raw = conversation['dialog'][i]['text']\n",
        "            output_raw = conversation['dialog'][i+1]['text']\n",
        "\n",
        "            # Clean texts\n",
        "            input_cleaned = clean_text(input_raw)\n",
        "            output_cleaned = clean_text(output_raw)\n",
        "\n",
        "            # Tokenize temporarily for length check\n",
        "            input_tokens = input_cleaned.split()\n",
        "            output_tokens = output_cleaned.split()\n",
        "\n",
        "            # Filter based on TOKEN length\n",
        "            if len(input_tokens) > max_input_len or len(output_tokens) > max_output_len \\\n",
        "               or not input_tokens or not output_tokens: # Skip empty sequences\n",
        "                skipped_count += 1\n",
        "                continue\n",
        "\n",
        "            # Prepare decoder input and target\n",
        "            output_input = '<sos> ' + output_cleaned\n",
        "            output_target = output_cleaned + ' <eos>'\n",
        "\n",
        "            input_texts.append(input_cleaned)\n",
        "            output_texts_input.append(output_input)\n",
        "            output_texts_target.append(output_target)\n",
        "\n",
        "    print(f\"Total potential pairs: {total_pairs}\")\n",
        "    print(f\"Pairs skipped due to length/emptiness: {skipped_count}\")\n",
        "    print(f\"Pairs used for training: {len(input_texts)}\")\n",
        "    return input_texts, output_texts_input, output_texts_target\n"
      ]
    },
    {
      "cell_type": "markdown",
      "metadata": {
        "id": "8P-ynUNP5xp6"
      },
      "source": [
        "### 2 - Preprocesamiento\n",
        "Realizar el preprocesamiento necesario para obtener:\n",
        "- word2idx_inputs, max_input_len\n",
        "- word2idx_outputs, max_out_len, num_words_output\n",
        "- encoder_input_sequences, decoder_output_sequences, decoder_targets"
      ]
    },
    {
      "cell_type": "code",
      "execution_count": 13,
      "metadata": {
        "id": "jHBRAXPl-3dz"
      },
      "outputs": [],
      "source": [
        "def tokenize_and_pad(input_texts, output_texts_input, output_texts_target,\n",
        "                     max_vocab_size, max_input_len, max_output_len):\n",
        "    \"\"\"\n",
        "    Tokenizes text, pads sequences, and returns tokenizers and processed sequences.\n",
        "    Uses separate tokenizers, handles <unk>, uses pre-padding for encoder.\n",
        "    \"\"\"\n",
        "    print(\"Tokenizing and padding sequences...\")\n",
        "\n",
        "    # Input Tokenizer (Encoder)\n",
        "    tokenizer_inputs = Tokenizer(num_words=max_vocab_size, oov_token='<unk>')\n",
        "    tokenizer_inputs.fit_on_texts(input_texts)\n",
        "    encoder_input_sequences = tokenizer_inputs.texts_to_sequences(input_texts)\n",
        "    encoder_input_sequences = pad_sequences(encoder_input_sequences, maxlen=max_input_len, padding='pre') # Pre-padding for encoder\n",
        "    word2idx_inputs = tokenizer_inputs.word_index\n",
        "    # Uso prepadding porque como es la última neurona la que pasa su estado al decoder puede ser que se diluya la información valiosa en los pasos que hace sobre el padding\n",
        "    num_words_inputs = min(max_vocab_size, len(word2idx_inputs) + 1)\n",
        "    print(f\"Input Vocab Size (used): {num_words_inputs-1} (+1 for padding)\")\n",
        "\n",
        "\n",
        "    # Output Tokenizer (Decoder) - Fit on both input and target to include <sos> and <eos>\n",
        "    # filters='' ensures '<sos>' and '<eos>' are kept\n",
        "    tokenizer_outputs = Tokenizer(num_words=max_vocab_size, oov_token='<unk>', filters='')\n",
        "    tokenizer_outputs.fit_on_texts(output_texts_input + output_texts_target)\n",
        "    decoder_input_sequences = tokenizer_outputs.texts_to_sequences(output_texts_input)\n",
        "    decoder_target_sequences = tokenizer_outputs.texts_to_sequences(output_texts_target)\n",
        "\n",
        "    decoder_input_sequences = pad_sequences(decoder_input_sequences, maxlen=max_output_len, padding='post')\n",
        "    decoder_target_sequences = pad_sequences(decoder_target_sequences, maxlen=max_output_len, padding='post') # Target uses post-padding\n",
        "\n",
        "    word2idx_outputs = tokenizer_outputs.word_index\n",
        "    idx2word_outputs = {v: k for k, v in word2idx_outputs.items()} # For decoding\n",
        "    num_words_outputs = min(max_vocab_size, len(word2idx_outputs) + 1)\n",
        "    print(f\"Output Vocab Size (used): {num_words_outputs-1} (+1 for padding, includes <sos>, <eos>)\")\n",
        "\n",
        "\n",
        "    return (tokenizer_inputs, tokenizer_outputs,\n",
        "            encoder_input_sequences, decoder_input_sequences, decoder_target_sequences,\n",
        "            word2idx_inputs, word2idx_outputs, idx2word_outputs,\n",
        "            num_words_inputs, num_words_outputs,\n",
        "            max_input_len, max_output_len)\n",
        "\n"
      ]
    },
    {
      "cell_type": "markdown",
      "metadata": {
        "id": "_CJIsLBbj6rg"
      },
      "source": [
        "### 3 - Preparar los embeddings\n",
        "Utilizar los embeddings de Glove o FastText para transformar los tokens de entrada en vectores"
      ]
    },
    {
      "cell_type": "code",
      "source": [
        "def load_glove_embeddings(glove_file):\n",
        "    \"\"\"Loads GloVe embeddings from a file into a dictionary.\"\"\"\n",
        "    print(f\"Loading GloVe embeddings from: {glove_file}\")\n",
        "    embeddings_index = {}\n",
        "    try:\n",
        "        with open(glove_file, 'r', encoding='utf-8') as f:\n",
        "            for line in f:\n",
        "                values = line.split()\n",
        "                word = values[0]\n",
        "                coefs = np.asarray(values[1:], dtype='float32')\n",
        "                embeddings_index[word] = coefs\n",
        "    except FileNotFoundError:\n",
        "        print(f\"Error: GloVe file not found at {glove_file}\")\n",
        "        print(\"Please ensure the GloVe file is downloaded and extracted correctly.\")\n",
        "        return None\n",
        "    print(f\"Found {len(embeddings_index)} word vectors in GloVe.\")\n",
        "    return embeddings_index"
      ],
      "metadata": {
        "id": "M3ZqLzwfUo53"
      },
      "execution_count": 14,
      "outputs": []
    },
    {
      "cell_type": "code",
      "execution_count": 15,
      "metadata": {
        "id": "07L1qj8pC_l6"
      },
      "outputs": [],
      "source": [
        "def build_embedding_matrix(word_index, embeddings_index, embedding_dim, max_vocab_size):\n",
        "    \"\"\"\n",
        "    Builds an embedding matrix using pre-trained GloVe vectors.\n",
        "    Handles OOV words by initializing with the mean embedding vector.\n",
        "    \"\"\"\n",
        "    print(\"Building embedding matrix...\")\n",
        "    num_words = min(max_vocab_size, len(word_index) + 1)\n",
        "    embedding_matrix = np.zeros((num_words, embedding_dim))\n",
        "    found_vectors = []\n",
        "\n",
        "    for word, i in word_index.items():\n",
        "        if i >= num_words:\n",
        "            continue\n",
        "        embedding_vector = embeddings_index.get(word)\n",
        "        if embedding_vector is not None:\n",
        "            # Words not found in embedding index will be all-zeros.\n",
        "            embedding_matrix[i] = embedding_vector\n",
        "            found_vectors.append(embedding_vector)\n",
        "\n",
        "    # Calculate mean vector for OOV initialization (excluding zero vectors)\n",
        "    if found_vectors:\n",
        "       mean_vector = np.mean(found_vectors, axis=0)\n",
        "    else:\n",
        "       mean_vector = np.random.randn(embedding_dim) * 0.01 # Fallback: small random\n",
        "       print(\"Warning: No pre-trained vectors found for vocabulary. Using random init for OOV.\")\n",
        "\n",
        "\n",
        "    # Initialize OOV tokens (index 1 for <unk> by default in Keras Tokenizer)\n",
        "    # and any other words that weren't found and are still zeros.\n",
        "    # Also initialize padding token (index 0) just in case, though mask_zero should handle it.\n",
        "    for i in range(num_words):\n",
        "       if np.all(embedding_matrix[i] == 0):\n",
        "           if i == word_index.get('<unk>', -1): # Check if it's the explicit OOV token\n",
        "               embedding_matrix[i] = mean_vector\n",
        "               print(f\"Initialized <unk> embedding (index {i}) with mean vector.\")\n",
        "           elif i != 0: # Don't override padding token 0 with mean\n",
        "               embedding_matrix[i] = mean_vector # Initialize other missed words\n",
        "\n",
        "\n",
        "    print(f\"Embedding matrix shape: {embedding_matrix.shape}\")\n",
        "    coverage = len(found_vectors) / (num_words - 2) if (num_words - 2) > 0 else 0 # Exclude padding and potential <unk>\n",
        "    print(f\"Vocabulary coverage by GloVe: {coverage:.2%}\")\n",
        "    return embedding_matrix"
      ]
    },
    {
      "cell_type": "markdown",
      "metadata": {
        "id": "oh9uqqizk8VD"
      },
      "source": [
        "### 4 - Entrenar el modelo\n",
        "Entrenar un modelo basado en el esquema encoder-decoder utilizando los datos generados en los puntos anteriores. Utilce como referencias los ejemplos vistos en clase."
      ]
    },
    {
      "cell_type": "code",
      "source": [
        "def build_seq2seq_model(max_input_len, max_output_len, num_words_inputs, num_words_outputs,\n",
        "                        embedding_dim, lstm_units, dropout_rate, recurrent_dropout_rate,\n",
        "                        input_embedding_matrix, output_embedding_matrix):\n",
        "    \"\"\"\n",
        "    Builds the standard Encoder-Decoder model\n",
        "    Uses fine-tunable embeddings for both encoder and decoder.\n",
        "    Includes Dropout and Recurrent Dropout.\n",
        "    \"\"\"\n",
        "    print(\"Building Seq2Seq model\")\n",
        "\n",
        "    # --- Encoder ---\n",
        "    encoder_inputs = Input(shape=(max_input_len,), name='encoder_input')\n",
        "    # Use mask_zero=True for pre-padding\n",
        "    enc_emb_layer = Embedding(num_words_inputs, embedding_dim, weights=[input_embedding_matrix],\n",
        "                              trainable=True, mask_zero=True, name='encoder_embedding')\n",
        "    enc_emb = enc_emb_layer(encoder_inputs)\n",
        "    # Encoder LSTM: Only need the final states, not the full sequence output\n",
        "    encoder_lstm = LSTM(lstm_units, return_state=True, # return_sequences=False by default is ok, but explicitly set to True for clarity\n",
        "                        dropout=dropout_rate, recurrent_dropout=recurrent_dropout_rate, name='encoder_lstm')\n",
        "    # We discard the encoder outputs sequence, only keep the states\n",
        "    _, state_h, state_c = encoder_lstm(enc_emb)\n",
        "    encoder_states = [state_h, state_c] # Context vector (last state)\n",
        "\n",
        "    # --- Decoder ---\n",
        "    decoder_inputs = Input(shape=(max_output_len,), name='decoder_input') # Shape for teacher forcing during training\n",
        "    # Decoder embedding can also be fine-tuned\n",
        "    dec_emb_layer = Embedding(num_words_outputs, embedding_dim, weights=[output_embedding_matrix],\n",
        "                              trainable=True, mask_zero=False, name='decoder_embedding') # No mask_zero for post-padding target\n",
        "    dec_emb = dec_emb_layer(decoder_inputs)\n",
        "\n",
        "    # Decoder LSTM - returns full sequence for Teacher Forcing alignment\n",
        "    # Takes the encoder's final states as its initial state\n",
        "    decoder_lstm = LSTM(lstm_units, return_sequences=True, return_state=True, # Need sequences for Dense layer over time\n",
        "                        dropout=dropout_rate, recurrent_dropout=recurrent_dropout_rate, name='decoder_lstm')\n",
        "    # decoder_lstm_outputs shape: (batch_size, max_output_len, lstm_units)\n",
        "    decoder_lstm_outputs, _, _ = decoder_lstm(dec_emb, initial_state=encoder_states)\n",
        "\n",
        "    # --- Output Layer ---\n",
        "    # Dense layer applied directly to the Decoder LSTM outputs\n",
        "\n",
        "    decoder_dense = Dense(num_words_outputs, activation='softmax', name='decoder_output_dense')\n",
        "    decoder_outputs = decoder_dense(decoder_lstm_outputs) # Apply Dense to the LSTM sequence output\n",
        "\n",
        "    # --- Training Model Definition ---\n",
        "    # Inputs: Encoder sequence, Decoder sequence (for teacher forcing)\n",
        "    # Outputs: Probability distribution over vocab for each timestep in the output sequence\n",
        "    training_model = Model([encoder_inputs, decoder_inputs], decoder_outputs, name='training_model')\n",
        "\n",
        "    # Compile using sparse categorical crossentropy\n",
        "    training_model.compile(optimizer=Adam(), loss='sparse_categorical_crossentropy', metrics=['accuracy'])\n",
        "\n",
        "    print(\"Model built successfully\")\n",
        "    training_model.summary() # Print model summary\n",
        "    return training_model"
      ],
      "metadata": {
        "id": "wp7CVLKNjPOz"
      },
      "execution_count": 17,
      "outputs": []
    },
    {
      "cell_type": "code",
      "source": [
        "def train_model(model, encoder_input_data, decoder_input_data, decoder_target_data,\n",
        "                batch_size, epochs, validation_split, early_stopping_patience,\n",
        "                lr_plateau_patience, lr_plateau_factor):\n",
        "    \"\"\"Trains the model with callbacks.\"\"\"\n",
        "    print(\"Starting model training...\")\n",
        "\n",
        "    # Callbacks\n",
        "    early_stopping = EarlyStopping(monitor='val_loss', patience=early_stopping_patience,\n",
        "                                   verbose=1, restore_best_weights=True)\n",
        "    # Disminuyo la tasa de aprendizaje cuando no veo mejoras para que explore con mas detenimiento el espacio local\n",
        "    reduce_lr = ReduceLROnPlateau(monitor='val_loss', factor=lr_plateau_factor,\n",
        "                                  patience=lr_plateau_patience, min_lr=1e-6, verbose=1)\n",
        "\n",
        "    history = model.fit([encoder_input_data, decoder_input_data], decoder_target_data,\n",
        "                        batch_size=batch_size,\n",
        "                        epochs=epochs,\n",
        "                        validation_split=validation_split,\n",
        "                        callbacks=[early_stopping, reduce_lr])\n",
        "\n",
        "    print(\"Training finished.\")\n",
        "    return history"
      ],
      "metadata": {
        "id": "UUWlysXej08L"
      },
      "execution_count": 18,
      "outputs": []
    },
    {
      "cell_type": "markdown",
      "metadata": {
        "id": "Zbwn0ekDy_s2"
      },
      "source": [
        "### 5 - Inferencia\n",
        "Experimentar el funcionamiento de su modelo. Recuerde que debe realizar la inferencia de los modelos por separado de encoder y decoder."
      ]
    },
    {
      "cell_type": "code",
      "source": [
        "def build_inference_models(training_model, lstm_units):\n",
        "    \"\"\"\n",
        "    Builds separate encoder and decoder models for inference for a standard Seq2Seq model.\n",
        "    \"\"\"\n",
        "    print(\"Building inference models\")\n",
        "\n",
        "   # --- Encoder Model ---\n",
        "    # The encoder's role is just to produce the final context states (h, c)\n",
        "    # Get the input layer of the training model by name\n",
        "    encoder_inputs = training_model.get_layer('encoder_input').output\n",
        "    # Get the encoder LSTM layer by name\n",
        "    encoder_lstm_layer = training_model.get_layer('encoder_lstm')\n",
        "    # Get the encoder embedding layer by name\n",
        "    encoder_embedding_layer = training_model.get_layer('encoder_embedding')\n",
        "\n",
        "    # Apply the embedding layer to the encoder inputs\n",
        "    # Changed: Apply the embedding layer inside the Model definition\n",
        "    # enc_emb = encoder_embedding_layer(encoder_inputs)\n",
        "\n",
        "    # Get the encoder LSTM outputs (output sequence, state_h, state_c)\n",
        "    # Changed: Pass encoder_inputs directly to the LSTM through the embedding layer\n",
        "    # Applying embedding layer here, removed unnecessary encoder_outputs_seq\n",
        "    enc_emb = encoder_embedding_layer(encoder_inputs)\n",
        "    _, state_h_enc, state_c_enc = encoder_lstm_layer(enc_emb)\n",
        "    encoder_states = [state_h_enc, state_c_enc]  # Context vector (last state)\n",
        "\n",
        "    # Define the encoder model: Input sequence -> Output states [h, c]\n",
        "    encoder_model = Model(encoder_inputs, encoder_states, name='encoder_inference')\n",
        "    print(\"Encoder inference model built.\")\n",
        "\n",
        "\n",
        "   # --- Decoder Model ---\n",
        "    # Inputs needed for the decoder at each step:\n",
        "    # 1. The previous predicted token (or <sos> initially)\n",
        "    # 2. The previous hidden state (h)\n",
        "    # 3. The previous cell state (c)\n",
        "\n",
        "    # Define input layers for the states\n",
        "    decoder_state_input_h = Input(shape=(lstm_units,), name='decoder_state_h_input')\n",
        "    decoder_state_input_c = Input(shape=(lstm_units,), name='decoder_state_c_input')\n",
        "    decoder_states_inputs = [decoder_state_input_h, decoder_state_input_c]\n",
        "\n",
        "    # Input for the single token prediction at each step\n",
        "    decoder_inputs_single = Input(shape=(1,), name='decoder_token_input') # Input is one token ID\n",
        "\n",
        "    # Get layers from the trained model\n",
        "    dec_emb_layer = training_model.get_layer('decoder_embedding')\n",
        "    decoder_lstm = training_model.get_layer('decoder_lstm') # The actual LSTM layer\n",
        "    decoder_dense = training_model.get_layer('decoder_output_dense') # The final classification layer\n",
        "\n",
        "    # Inference Decoder Steps:\n",
        "    # 1. Embed the input token\n",
        "    dec_emb_single = dec_emb_layer(decoder_inputs_single)\n",
        "\n",
        "    # 2. Run the LSTM step using the embedded token and the previous states\n",
        "    # We get the output for this step and the new states\n",
        "    decoder_lstm_outputs, state_h_dec, state_c_dec = decoder_lstm(\n",
        "        dec_emb_single, initial_state=decoder_states_inputs\n",
        "    )\n",
        "    decoder_states = [state_h_dec, state_c_dec] # New states to pass to the next step\n",
        "\n",
        "    # 3. Apply the Dense layer to the LSTM output to get token probabilities\n",
        "    decoder_outputs = decoder_dense(decoder_lstm_outputs)\n",
        "\n",
        "    # Define the decoder model:\n",
        "    # Inputs: [Single Token Input, Previous Hidden State, Previous Cell State]\n",
        "    # Outputs: [Token Probabilities, New Hidden State, New Cell State]\n",
        "    decoder_model = Model(\n",
        "        [decoder_inputs_single] + decoder_states_inputs,\n",
        "        [decoder_outputs] + decoder_states,\n",
        "        name='decoder_inference'\n",
        "    )\n",
        "    print(\"Decoder inference model built.\")\n",
        "\n",
        "    return encoder_model, decoder_model"
      ],
      "metadata": {
        "id": "kE0Wa4eSj2iP"
      },
      "execution_count": 47,
      "outputs": []
    },
    {
      "cell_type": "code",
      "source": [
        "def decode_sequence_greedy(input_seq, encoder_model, decoder_model,\n",
        "                       tokenizer_outputs, idx2word_outputs, max_output_len):\n",
        "    \"\"\"Decodes an input sequence using greedy search.\"\"\"\n",
        "\n",
        "    # Encode the input sequence to get the initial states\n",
        "    # Removed encoder_outputs_seq\n",
        "    states_value = encoder_model.predict(input_seq, verbose=0)\n",
        "\n",
        "    # Start sequence with '<sos>' token\n",
        "    target_seq = np.zeros((1, 1))\n",
        "    target_seq[0, 0] = tokenizer_outputs.word_index['<sos>']\n",
        "\n",
        "    stop_condition = False\n",
        "    decoded_sentence = []\n",
        "\n",
        "    while not stop_condition:\n",
        "        # Predict next token (probabilities) and update states\n",
        "        # Removed encoder_outputs_seq from predict call\n",
        "        output_tokens, h, c = decoder_model.predict(\n",
        "            [target_seq] + states_value, verbose=0\n",
        "        )\n",
        "\n",
        "        # Get the most likely token ID (greedy)\n",
        "        sampled_token_index = np.argmax(output_tokens[0, -1, :])\n",
        "        # Use efficient dictionary lookup\n",
        "        sampled_word = idx2word_outputs.get(sampled_token_index, '<unk>')\n",
        "\n",
        "        # Stop if '<eos>' is sampled or max length is reached\n",
        "        if sampled_word == '<eos>' or len(decoded_sentence) >= max_output_len:\n",
        "            stop_condition = True\n",
        "        else:\n",
        "            decoded_sentence.append(sampled_word)\n",
        "\n",
        "        # Update the target sequence for the next step\n",
        "        target_seq = np.zeros((1, 1))\n",
        "        target_seq[0, 0] = sampled_token_index\n",
        "\n",
        "        # Update states\n",
        "        states_value = [h, c]\n",
        "\n",
        "    return ' '.join(decoded_sentence)"
      ],
      "metadata": {
        "id": "5HAblFuFj7po"
      },
      "execution_count": 45,
      "outputs": []
    },
    {
      "cell_type": "markdown",
      "source": [
        "Ejecución general"
      ],
      "metadata": {
        "id": "RLF1M3gslZ4j"
      }
    },
    {
      "cell_type": "code",
      "source": [
        "# --- Main Execution ---\n",
        "nltk.download('punkt_tab')\n",
        "# --- 1. Download Data ---\n",
        "download_file(config['dataset_url'], config['dataset_filename'], desc=\"Dataset\")\n",
        "download_and_extract_zip(config['glove_url'], config['glove_zip'], config['glove_file'], desc=\"GloVe Embeddings\")\n",
        "\n",
        "# --- 2. Load and Preprocess ---\n",
        "input_texts, output_texts_input, output_texts_target = load_and_preprocess_data(\n",
        "    config['dataset_filename'],\n",
        "    config['max_input_token_len'],\n",
        "    config['max_output_token_len']\n",
        ")\n",
        "\n",
        "if not input_texts:\n",
        "    print(\"No data loaded after preprocessing. Check filtering criteria or dataset.\")\n",
        "    exit()\n",
        "\n",
        "# --- 3. Tokenize and Pad ---\n",
        "(tokenizer_inputs, tokenizer_outputs,\n",
        " encoder_input_sequences, decoder_input_sequences, decoder_target_sequences,\n",
        " word2idx_inputs, word2idx_outputs, idx2word_outputs,\n",
        " num_words_inputs, num_words_outputs,\n",
        " max_input_len, max_output_len) = tokenize_and_pad(\n",
        "    input_texts, output_texts_input, output_texts_target,\n",
        "    config['max_vocab_size'], config['max_input_token_len'], config['max_output_token_len']\n",
        ")\n",
        "\n",
        "# --- 4. Prepare Embeddings ---\n",
        "embeddings_index = load_glove_embeddings(config['glove_file'])\n",
        "if embeddings_index is None:\n",
        "    exit()\n",
        "\n",
        "input_embedding_matrix = build_embedding_matrix(\n",
        "    word2idx_inputs, embeddings_index, config['embedding_dim'], num_words_inputs\n",
        ")\n",
        "output_embedding_matrix = build_embedding_matrix(\n",
        "    word2idx_outputs, embeddings_index, config['embedding_dim'], num_words_outputs\n",
        ")\n",
        "\n",
        "# --- 5. Build Model ---\n",
        "training_model = build_seq2seq_model(\n",
        "    max_input_len, max_output_len, # Use actual padded lengths\n",
        "    num_words_inputs, num_words_outputs, # Use actual vocab sizes\n",
        "    config['embedding_dim'], config['lstm_units'],\n",
        "    config['dropout_rate'], config['recurrent_dropout_rate'],\n",
        "    input_embedding_matrix, output_embedding_matrix\n",
        ")\n",
        "\n",
        "# --- 6. Train Model ---\n",
        "# Note: decoder_target_sequences does not need to be one-hot encoded when using sparse_categorical_crossentropy\n",
        "history = train_model(\n",
        "    training_model,\n",
        "    encoder_input_sequences, decoder_input_sequences, decoder_target_sequences,\n",
        "    config['batch_size'], config['epochs'], config['validation_split'],\n",
        "    config['early_stopping_patience'], config['lr_plateau_patience'], config['lr_plateau_factor']\n",
        ")\n",
        "\n",
        "\n"
      ],
      "metadata": {
        "colab": {
          "base_uri": "https://localhost:8080/",
          "height": 443
        },
        "id": "eGMqO-sCkASQ",
        "outputId": "c5d87de9-7ac6-406d-a22f-e4687c05e05c"
      },
      "execution_count": 36,
      "outputs": [
        {
          "output_type": "stream",
          "name": "stderr",
          "text": [
            "[nltk_data] Downloading package punkt_tab to /root/nltk_data...\n",
            "[nltk_data]   Package punkt_tab is already up-to-date!\n"
          ]
        },
        {
          "output_type": "stream",
          "name": "stdout",
          "text": [
            "Dataset already downloaded: data_volunteers.json\n",
            "Required file already exists: glove.6B.100d.txt\n",
            "Loading and preprocessing data...\n"
          ]
        },
        {
          "output_type": "error",
          "ename": "KeyboardInterrupt",
          "evalue": "",
          "traceback": [
            "\u001b[0;31m---------------------------------------------------------------------------\u001b[0m",
            "\u001b[0;31mKeyboardInterrupt\u001b[0m                         Traceback (most recent call last)",
            "\u001b[0;32m<ipython-input-36-46234269a53a>\u001b[0m in \u001b[0;36m<cell line: 0>\u001b[0;34m()\u001b[0m\n\u001b[1;32m      6\u001b[0m \u001b[0;34m\u001b[0m\u001b[0m\n\u001b[1;32m      7\u001b[0m \u001b[0;31m# --- 2. Load and Preprocess ---\u001b[0m\u001b[0;34m\u001b[0m\u001b[0;34m\u001b[0m\u001b[0m\n\u001b[0;32m----> 8\u001b[0;31m input_texts, output_texts_input, output_texts_target = load_and_preprocess_data(\n\u001b[0m\u001b[1;32m      9\u001b[0m     \u001b[0mconfig\u001b[0m\u001b[0;34m[\u001b[0m\u001b[0;34m'dataset_filename'\u001b[0m\u001b[0;34m]\u001b[0m\u001b[0;34m,\u001b[0m\u001b[0;34m\u001b[0m\u001b[0;34m\u001b[0m\u001b[0m\n\u001b[1;32m     10\u001b[0m     \u001b[0mconfig\u001b[0m\u001b[0;34m[\u001b[0m\u001b[0;34m'max_input_token_len'\u001b[0m\u001b[0;34m]\u001b[0m\u001b[0;34m,\u001b[0m\u001b[0;34m\u001b[0m\u001b[0;34m\u001b[0m\u001b[0m\n",
            "\u001b[0;32m<ipython-input-12-d03ccb5980d5>\u001b[0m in \u001b[0;36mload_and_preprocess_data\u001b[0;34m(filename, max_input_len, max_output_len)\u001b[0m\n\u001b[1;32m     22\u001b[0m             \u001b[0;31m# Clean texts\u001b[0m\u001b[0;34m\u001b[0m\u001b[0;34m\u001b[0m\u001b[0m\n\u001b[1;32m     23\u001b[0m             \u001b[0minput_cleaned\u001b[0m \u001b[0;34m=\u001b[0m \u001b[0mclean_text\u001b[0m\u001b[0;34m(\u001b[0m\u001b[0minput_raw\u001b[0m\u001b[0;34m)\u001b[0m\u001b[0;34m\u001b[0m\u001b[0;34m\u001b[0m\u001b[0m\n\u001b[0;32m---> 24\u001b[0;31m             \u001b[0moutput_cleaned\u001b[0m \u001b[0;34m=\u001b[0m \u001b[0mclean_text\u001b[0m\u001b[0;34m(\u001b[0m\u001b[0moutput_raw\u001b[0m\u001b[0;34m)\u001b[0m\u001b[0;34m\u001b[0m\u001b[0;34m\u001b[0m\u001b[0m\n\u001b[0m\u001b[1;32m     25\u001b[0m \u001b[0;34m\u001b[0m\u001b[0m\n\u001b[1;32m     26\u001b[0m             \u001b[0;31m# Tokenize temporarily for length check\u001b[0m\u001b[0;34m\u001b[0m\u001b[0;34m\u001b[0m\u001b[0m\n",
            "\u001b[0;32m<ipython-input-11-abb718f94b9c>\u001b[0m in \u001b[0;36mclean_text\u001b[0;34m(text)\u001b[0m\n\u001b[1;32m      8\u001b[0m     \u001b[0mtext\u001b[0m \u001b[0;34m=\u001b[0m \u001b[0mcontractions\u001b[0m\u001b[0;34m.\u001b[0m\u001b[0mfix\u001b[0m\u001b[0;34m(\u001b[0m\u001b[0mtext\u001b[0m\u001b[0;34m)\u001b[0m\u001b[0;34m\u001b[0m\u001b[0;34m\u001b[0m\u001b[0m\n\u001b[1;32m      9\u001b[0m     \u001b[0;31m# Lemmatize\u001b[0m\u001b[0;34m\u001b[0m\u001b[0;34m\u001b[0m\u001b[0m\n\u001b[0;32m---> 10\u001b[0;31m     \u001b[0mtokens\u001b[0m \u001b[0;34m=\u001b[0m \u001b[0mword_tokenize\u001b[0m\u001b[0;34m(\u001b[0m\u001b[0mtext\u001b[0m\u001b[0;34m)\u001b[0m\u001b[0;34m\u001b[0m\u001b[0;34m\u001b[0m\u001b[0m\n\u001b[0m\u001b[1;32m     11\u001b[0m     \u001b[0mlemmatized_tokens\u001b[0m \u001b[0;34m=\u001b[0m \u001b[0;34m[\u001b[0m\u001b[0mlemmatizer\u001b[0m\u001b[0;34m.\u001b[0m\u001b[0mlemmatize\u001b[0m\u001b[0;34m(\u001b[0m\u001b[0mtoken\u001b[0m\u001b[0;34m)\u001b[0m \u001b[0;32mfor\u001b[0m \u001b[0mtoken\u001b[0m \u001b[0;32min\u001b[0m \u001b[0mtokens\u001b[0m\u001b[0;34m]\u001b[0m\u001b[0;34m\u001b[0m\u001b[0;34m\u001b[0m\u001b[0m\n\u001b[1;32m     12\u001b[0m     \u001b[0mtext\u001b[0m \u001b[0;34m=\u001b[0m \u001b[0;34m' '\u001b[0m\u001b[0;34m.\u001b[0m\u001b[0mjoin\u001b[0m\u001b[0;34m(\u001b[0m\u001b[0mlemmatized_tokens\u001b[0m\u001b[0;34m)\u001b[0m\u001b[0;34m\u001b[0m\u001b[0;34m\u001b[0m\u001b[0m\n",
            "\u001b[0;32m/usr/local/lib/python3.11/dist-packages/nltk/tokenize/__init__.py\u001b[0m in \u001b[0;36mword_tokenize\u001b[0;34m(text, language, preserve_line)\u001b[0m\n\u001b[1;32m    141\u001b[0m     \"\"\"\n\u001b[1;32m    142\u001b[0m     \u001b[0msentences\u001b[0m \u001b[0;34m=\u001b[0m \u001b[0;34m[\u001b[0m\u001b[0mtext\u001b[0m\u001b[0;34m]\u001b[0m \u001b[0;32mif\u001b[0m \u001b[0mpreserve_line\u001b[0m \u001b[0;32melse\u001b[0m \u001b[0msent_tokenize\u001b[0m\u001b[0;34m(\u001b[0m\u001b[0mtext\u001b[0m\u001b[0;34m,\u001b[0m \u001b[0mlanguage\u001b[0m\u001b[0;34m)\u001b[0m\u001b[0;34m\u001b[0m\u001b[0;34m\u001b[0m\u001b[0m\n\u001b[0;32m--> 143\u001b[0;31m     return [\n\u001b[0m\u001b[1;32m    144\u001b[0m         \u001b[0mtoken\u001b[0m \u001b[0;32mfor\u001b[0m \u001b[0msent\u001b[0m \u001b[0;32min\u001b[0m \u001b[0msentences\u001b[0m \u001b[0;32mfor\u001b[0m \u001b[0mtoken\u001b[0m \u001b[0;32min\u001b[0m \u001b[0m_treebank_word_tokenizer\u001b[0m\u001b[0;34m.\u001b[0m\u001b[0mtokenize\u001b[0m\u001b[0;34m(\u001b[0m\u001b[0msent\u001b[0m\u001b[0;34m)\u001b[0m\u001b[0;34m\u001b[0m\u001b[0;34m\u001b[0m\u001b[0m\n\u001b[1;32m    145\u001b[0m     ]\n",
            "\u001b[0;32m/usr/local/lib/python3.11/dist-packages/nltk/tokenize/__init__.py\u001b[0m in \u001b[0;36m<listcomp>\u001b[0;34m(.0)\u001b[0m\n\u001b[1;32m    142\u001b[0m     \u001b[0msentences\u001b[0m \u001b[0;34m=\u001b[0m \u001b[0;34m[\u001b[0m\u001b[0mtext\u001b[0m\u001b[0;34m]\u001b[0m \u001b[0;32mif\u001b[0m \u001b[0mpreserve_line\u001b[0m \u001b[0;32melse\u001b[0m \u001b[0msent_tokenize\u001b[0m\u001b[0;34m(\u001b[0m\u001b[0mtext\u001b[0m\u001b[0;34m,\u001b[0m \u001b[0mlanguage\u001b[0m\u001b[0;34m)\u001b[0m\u001b[0;34m\u001b[0m\u001b[0;34m\u001b[0m\u001b[0m\n\u001b[1;32m    143\u001b[0m     return [\n\u001b[0;32m--> 144\u001b[0;31m         \u001b[0mtoken\u001b[0m \u001b[0;32mfor\u001b[0m \u001b[0msent\u001b[0m \u001b[0;32min\u001b[0m \u001b[0msentences\u001b[0m \u001b[0;32mfor\u001b[0m \u001b[0mtoken\u001b[0m \u001b[0;32min\u001b[0m \u001b[0m_treebank_word_tokenizer\u001b[0m\u001b[0;34m.\u001b[0m\u001b[0mtokenize\u001b[0m\u001b[0;34m(\u001b[0m\u001b[0msent\u001b[0m\u001b[0;34m)\u001b[0m\u001b[0;34m\u001b[0m\u001b[0;34m\u001b[0m\u001b[0m\n\u001b[0m\u001b[1;32m    145\u001b[0m     ]\n",
            "\u001b[0;32m/usr/local/lib/python3.11/dist-packages/nltk/tokenize/destructive.py\u001b[0m in \u001b[0;36mtokenize\u001b[0;34m(self, text, convert_parentheses, return_str)\u001b[0m\n\u001b[1;32m    156\u001b[0m \u001b[0;34m\u001b[0m\u001b[0m\n\u001b[1;32m    157\u001b[0m         \u001b[0;32mfor\u001b[0m \u001b[0mregexp\u001b[0m\u001b[0;34m,\u001b[0m \u001b[0msubstitution\u001b[0m \u001b[0;32min\u001b[0m \u001b[0mself\u001b[0m\u001b[0;34m.\u001b[0m\u001b[0mSTARTING_QUOTES\u001b[0m\u001b[0;34m:\u001b[0m\u001b[0;34m\u001b[0m\u001b[0;34m\u001b[0m\u001b[0m\n\u001b[0;32m--> 158\u001b[0;31m             \u001b[0mtext\u001b[0m \u001b[0;34m=\u001b[0m \u001b[0mregexp\u001b[0m\u001b[0;34m.\u001b[0m\u001b[0msub\u001b[0m\u001b[0;34m(\u001b[0m\u001b[0msubstitution\u001b[0m\u001b[0;34m,\u001b[0m \u001b[0mtext\u001b[0m\u001b[0;34m)\u001b[0m\u001b[0;34m\u001b[0m\u001b[0;34m\u001b[0m\u001b[0m\n\u001b[0m\u001b[1;32m    159\u001b[0m \u001b[0;34m\u001b[0m\u001b[0m\n\u001b[1;32m    160\u001b[0m         \u001b[0;32mfor\u001b[0m \u001b[0mregexp\u001b[0m\u001b[0;34m,\u001b[0m \u001b[0msubstitution\u001b[0m \u001b[0;32min\u001b[0m \u001b[0mself\u001b[0m\u001b[0;34m.\u001b[0m\u001b[0mPUNCTUATION\u001b[0m\u001b[0;34m:\u001b[0m\u001b[0;34m\u001b[0m\u001b[0;34m\u001b[0m\u001b[0m\n",
            "\u001b[0;32m/usr/lib/python3.11/re/__init__.py\u001b[0m in \u001b[0;36m_subx\u001b[0;34m(pattern, template)\u001b[0m\n\u001b[1;32m    315\u001b[0m \u001b[0;32mdef\u001b[0m \u001b[0m_subx\u001b[0m\u001b[0;34m(\u001b[0m\u001b[0mpattern\u001b[0m\u001b[0;34m,\u001b[0m \u001b[0mtemplate\u001b[0m\u001b[0;34m)\u001b[0m\u001b[0;34m:\u001b[0m\u001b[0;34m\u001b[0m\u001b[0;34m\u001b[0m\u001b[0m\n\u001b[1;32m    316\u001b[0m     \u001b[0;31m# internal: Pattern.sub/subn implementation helper\u001b[0m\u001b[0;34m\u001b[0m\u001b[0;34m\u001b[0m\u001b[0m\n\u001b[0;32m--> 317\u001b[0;31m     \u001b[0mtemplate\u001b[0m \u001b[0;34m=\u001b[0m \u001b[0m_compile_repl\u001b[0m\u001b[0;34m(\u001b[0m\u001b[0mtemplate\u001b[0m\u001b[0;34m,\u001b[0m \u001b[0mpattern\u001b[0m\u001b[0;34m)\u001b[0m\u001b[0;34m\u001b[0m\u001b[0;34m\u001b[0m\u001b[0m\n\u001b[0m\u001b[1;32m    318\u001b[0m     \u001b[0;32mif\u001b[0m \u001b[0;32mnot\u001b[0m \u001b[0mtemplate\u001b[0m\u001b[0;34m[\u001b[0m\u001b[0;36m0\u001b[0m\u001b[0;34m]\u001b[0m \u001b[0;32mand\u001b[0m \u001b[0mlen\u001b[0m\u001b[0;34m(\u001b[0m\u001b[0mtemplate\u001b[0m\u001b[0;34m[\u001b[0m\u001b[0;36m1\u001b[0m\u001b[0;34m]\u001b[0m\u001b[0;34m)\u001b[0m \u001b[0;34m==\u001b[0m \u001b[0;36m1\u001b[0m\u001b[0;34m:\u001b[0m\u001b[0;34m\u001b[0m\u001b[0;34m\u001b[0m\u001b[0m\n\u001b[1;32m    319\u001b[0m         \u001b[0;31m# literal replacement\u001b[0m\u001b[0;34m\u001b[0m\u001b[0;34m\u001b[0m\u001b[0m\n",
            "\u001b[0;31mKeyboardInterrupt\u001b[0m: "
          ]
        }
      ]
    },
    {
      "cell_type": "code",
      "source": [
        "# Plot training history\n",
        "import matplotlib.pyplot as plt\n",
        "plt.plot(history.history['loss'], label='Training Loss')\n",
        "plt.plot(history.history['val_loss'], label='Validation Loss')\n",
        "plt.legend()\n",
        "plt.show()\n",
        ""
      ],
      "metadata": {
        "colab": {
          "base_uri": "https://localhost:8080/",
          "height": 430
        },
        "id": "uG-VtmG_wfUm",
        "outputId": "4e73def3-2e5d-4414-871e-dbe143a84429"
      },
      "execution_count": 25,
      "outputs": [
        {
          "output_type": "display_data",
          "data": {
            "text/plain": [
              "<Figure size 640x480 with 1 Axes>"
            ],
            "image/png": "[encoded data removed]"
          },
          "metadata": {}
        }
      ]
    },
    {
      "cell_type": "markdown",
      "source": [
        "Pudo haber un overfitting\n"
      ],
      "metadata": {
        "id": "NkosBsEawwQ0"
      }
    },
    {
      "cell_type": "code",
      "source": [
        " # --- 7. Build Inference Models ---\n",
        "encoder_inf_model, decoder_inf_model = build_inference_models(\n",
        "    training_model, config['lstm_units']\n",
        ")\n",
        "\n",
        "# --- 8. Inference Example ---\n",
        "print(\"\\n--- Inference Examples ---\")\n",
        "# Select a few random samples from the validation set (if split used during training)\n",
        "# or just from the original data\n",
        "num_examples = 5\n",
        "for i in np.random.choice(len(encoder_input_sequences), num_examples, replace=False):\n",
        "    input_seq = encoder_input_sequences[i:i+1] # Need batch dimension\n",
        "    original_input_text = input_texts[i]\n",
        "    # Find corresponding original target text (needs careful alignment if validation split was random)\n",
        "    # For simplicity, let's just show the input and decoded output\n",
        "    # original_output_text = output_texts_target[i].replace('<eos>', '').strip() # Example if aligned\n",
        "\n",
        "    decoded_sentence = decode_sequence_greedy(\n",
        "        input_seq, encoder_inf_model, decoder_inf_model,\n",
        "        tokenizer_outputs, idx2word_outputs, max_output_len\n",
        "    )\n",
        "    print(f\"Input:   {original_input_text}\")\n",
        "    # print(f\"Original: {original_output_text}\") # Uncomment if you have aligned target\n",
        "    print(f\"Decoded: {decoded_sentence}\")\n",
        "    print(\"-\" * 30)"
      ],
      "metadata": {
        "colab": {
          "base_uri": "https://localhost:8080/"
        },
        "id": "J-nRt-9LwXat",
        "outputId": "678c9595-0da7-461c-f62e-b859516a9db8"
      },
      "execution_count": 48,
      "outputs": [
        {
          "output_type": "stream",
          "name": "stdout",
          "text": [
            "Building inference models\n",
            "Encoder inference model built.\n",
            "Decoder inference model built.\n",
            "\n",
            "--- Inference Examples ---\n",
            "Input:   i got a job on a gas station i am an engineer\n",
            "Decoded: that is cool i am a teacher\n",
            "------------------------------\n",
            "Input:   i will send you my resume\n",
            "Decoded: what do you do for a living\n",
            "------------------------------\n",
            "Input:   yes they are what do you like to do\n",
            "Decoded: i do not know what that mean\n",
            "------------------------------\n",
            "Input:   do you like car i am a car salesman\n",
            "Decoded: i do not have a lot of time for that\n",
            "------------------------------\n",
            "Input:   great i play guitar and play game a my hobby\n",
            "Decoded: i love to read\n",
            "------------------------------\n"
          ]
        }
      ]
    },
    {
      "cell_type": "markdown",
      "source": [
        "El modelo responde con una gramática bastante buena, pero no llega a ser un dialogo de pregunta y respuesta. Puede ser porque se removieron los signos de pregunta en el preprocesamiento y eso es lo que marcaba la cadencia."
      ],
      "metadata": {
        "id": "wVc9j1A719ta"
      }
    },
    {
      "cell_type": "code",
      "source": [],
      "metadata": {
        "id": "0DkZilnX2X3K"
      },
      "execution_count": null,
      "outputs": []
    }
  ],
  "metadata": {
    "accelerator": "GPU",
    "colab": {
      "provenance": []
    },
    "kernelspec": {
      "display_name": "Python 3.10.6 64-bit",
      "language": "python",
      "name": "python3"
    },
    "language_info": {
      "name": "python",
      "version": "3.10.6"
    },
    "vscode": {
      "interpreter": {
        "hash": "916dbcbb3f70747c44a77c7bcd40155683ae19c65e1c03b4aa3499c5328201f1"
      }
    }
  },
  "nbformat": 4,
  "nbformat_minor": 0
}