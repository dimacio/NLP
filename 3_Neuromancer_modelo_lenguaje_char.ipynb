{
  "cells": [
    {
      "cell_type": "markdown",
      "metadata": {
        "id": "g3yeJGnCYxuF"
      },
      "source": [
        "<img src=\"https://github.com/hernancontigiani/ceia_memorias_especializacion/raw/master/Figures/logoFIUBA.jpg\" width=\"500\" align=\"center\">\n",
        "\n",
        "\n",
        "# Procesamiento de lenguaje natural\n",
        "## Modelo de lenguaje con tokenización por caracteres"
      ]
    },
    {
      "cell_type": "markdown",
      "metadata": {
        "id": "Iv5PEwGzZA9-"
      },
      "source": [
        "### Consigna\n",
        "- Seleccionar un corpus de texto sobre el cual entrenar el modelo de lenguaje.\n",
        "- Realizar el pre-procesamiento adecuado para tokenizar el corpus, estructurar el dataset y separar entre datos de entrenamiento y validación.\n",
        "- Proponer arquitecturas de redes neuronales basadas en unidades recurrentes para implementar un modelo de lenguaje.\n",
        "- Con el o los modelos que consideren adecuados, generar nuevas secuencias a partir de secuencias de contexto con las estrategias de greedy search y beam search determístico y estocástico. En este último caso observar el efecto de la temperatura en la generación de secuencias.\n",
        "\n",
        "\n",
        "### Sugerencias\n",
        "- Durante el entrenamiento, guiarse por el descenso de la perplejidad en los datos de validación para finalizar el entrenamiento. Para ello se provee un callback.\n",
        "- Explorar utilizar SimpleRNN (celda de Elman), LSTM y GRU.\n",
        "- rmsprop es el optimizador recomendado para la buena convergencia. No obstante se pueden explorar otros.\n"
      ]
    },
    {
      "cell_type": "code",
      "execution_count": 1,
      "metadata": {
        "id": "Y-QdFbHZYj7C"
      },
      "outputs": [],
      "source": [
        "import random\n",
        "import io\n",
        "import pickle\n",
        "\n",
        "import numpy as np\n",
        "import pandas as pd\n",
        "import matplotlib.pyplot as plt\n",
        "from sklearn.model_selection import train_test_split\n",
        "\n",
        "from tensorflow import keras\n",
        "from tensorflow.keras import layers\n",
        "from keras.utils import to_categorical\n",
        "from keras.models import Sequential\n",
        "from keras.layers import Dense, LSTM, Embedding, Dropout\n",
        "from tensorflow.keras.losses import SparseCategoricalCrossentropy"
      ]
    },
    {
      "cell_type": "markdown",
      "metadata": {
        "id": "xTvXlEKQZdqx"
      },
      "source": [
        "### Datos\n",
        "Utilizaremos como dataset canciones de bandas de habla inglés."
      ]
    },
    {
      "cell_type": "code",
      "execution_count": 2,
      "metadata": {
        "id": "7amy6uUaBLVD"
      },
      "outputs": [],
      "source": [
        "# descargar de textos.info\n",
        "import urllib.request\n",
        "\n",
        "# Para leer y parsear el texto en HTML de wikipedia\n",
        "import bs4 as bs"
      ]
    },
    {
      "cell_type": "code",
      "execution_count": 3,
      "metadata": {
        "id": "6v_ickFwBJTy",
        "colab": {
          "base_uri": "https://localhost:8080/"
        },
        "outputId": "8ae40e5c-11fa-4639-bc5c-8972c8ffc884"
      },
      "outputs": [
        {
          "output_type": "stream",
          "name": "stdout",
          "text": [
            "Downloaded 451934 characters.\n"
          ]
        }
      ],
      "source": [
        "import requests\n",
        "\n",
        "url = \"https://gist.githubusercontent.com/m-242/ecb3e130b76a3b12f7ef41b04f486405/raw/8a3e992841f55f33b9836631b62ac0250b5fe7f8/neuromancer.txt\"\n",
        "response = requests.get(url)\n",
        "response.raise_for_status()  # Raise an exception for bad status codes\n",
        "\n",
        "text = response.text\n",
        "# Now the 'text' variable contains the content of the novel.  You can use it in your model.\n",
        "print(f\"Downloaded {len(text)} characters.\")"
      ]
    },
    {
      "cell_type": "code",
      "execution_count": 4,
      "metadata": {
        "id": "WBE0sSYuB-E6",
        "colab": {
          "base_uri": "https://localhost:8080/"
        },
        "outputId": "7c324533-74fa-4bf6-b0e8-6ee7c08e6713"
      },
      "outputs": [
        {
          "output_type": "stream",
          "name": "stdout",
          "text": [
            "Using 90386 characters (20% of the original).\n"
          ]
        }
      ],
      "source": [
        "split_point = int(0.2 * len(text))\n",
        "\n",
        "# El libro era demasiado largo así que solo tomé el primer 20% para que lo pueda manejar con mis recursos\n",
        "text = text[:split_point]\n",
        "print(f\"Using {len(text)} characters (20% of the original).\")\n"
      ]
    },
    {
      "cell_type": "code",
      "source": [
        "\n",
        "# Remove repeated spaces\n",
        "text = \" \".join(text.split())\n",
        "print(f\"Processed text length: {len(text)}\")\n"
      ],
      "metadata": {
        "colab": {
          "base_uri": "https://localhost:8080/"
        },
        "id": "5HsiAvJFQdlY",
        "outputId": "36515762-4533-42da-9a41-a380df601aba"
      },
      "execution_count": 5,
      "outputs": [
        {
          "output_type": "stream",
          "name": "stdout",
          "text": [
            "Processed text length: 90175\n"
          ]
        }
      ]
    },
    {
      "cell_type": "markdown",
      "metadata": {
        "id": "cP1JdiOIKQWi"
      },
      "source": [
        "### Elegir el tamaño del contexto\n",
        "\n",
        "En este caso, como el modelo de lenguaje es por caracteres, todo un gran corpus\n",
        "de texto puede ser considerado un documento en sí mismo y el tamaño de contexto\n",
        "puede ser elegido con más libertad en comparación a un modelo de lenguaje tokenizado por palabras y dividido en documentos más acotados."
      ]
    },
    {
      "cell_type": "code",
      "execution_count": 6,
      "metadata": {
        "id": "wumBNwdjJM3j"
      },
      "outputs": [],
      "source": [
        "# seleccionamos el tamaño de contexto\n",
        "max_context_size = 100"
      ]
    },
    {
      "cell_type": "code",
      "execution_count": 7,
      "metadata": {
        "id": "m5FeTaGvbDbw"
      },
      "outputs": [],
      "source": [
        "# Usaremos las utilidades de procesamiento de textos y secuencias de Keras\n",
        "from tensorflow.keras.utils import pad_sequences # se utilizará para padding"
      ]
    },
    {
      "cell_type": "code",
      "execution_count": 8,
      "metadata": {
        "id": "573Cg5n7VhWw"
      },
      "outputs": [],
      "source": [
        "# en este caso el vocabulario es el conjunto único de caracteres que existe en todo el texto\n",
        "chars_vocab = set(text)"
      ]
    },
    {
      "cell_type": "code",
      "execution_count": 26,
      "metadata": {
        "id": "VwTK6xgLJd8q"
      },
      "outputs": [],
      "source": [
        "# la longitud de vocabulario de caracteres es:\n",
        "vocab_size = len(chars_vocab)"
      ]
    },
    {
      "cell_type": "code",
      "execution_count": 10,
      "metadata": {
        "id": "2W0AeQjXV1Ou"
      },
      "outputs": [],
      "source": [
        "# Construimos los dicionarios que asignan índices a caracteres y viceversa.\n",
        "# El diccionario `char2idx` servirá como tokenizador.\n",
        "char2idx = {k: v for v,k in enumerate(chars_vocab)}\n",
        "idx2char = {v: k for k,v in char2idx.items()}"
      ]
    },
    {
      "cell_type": "code",
      "source": [
        "idx2char[47]"
      ],
      "metadata": {
        "colab": {
          "base_uri": "https://localhost:8080/",
          "height": 36
        },
        "id": "MVnJcHh6QLSU",
        "outputId": "631e19e5-2cca-4caa-83ff-9fd179e21244"
      },
      "execution_count": 13,
      "outputs": [
        {
          "output_type": "execute_result",
          "data": {
            "text/plain": [
              "'M'"
            ],
            "application/vnd.google.colaboratory.intrinsic+json": {
              "type": "string"
            }
          },
          "metadata": {},
          "execution_count": 13
        }
      ]
    },
    {
      "cell_type": "markdown",
      "metadata": {
        "id": "2oIUjVU0LB0r"
      },
      "source": [
        "###  Tokenizar"
      ]
    },
    {
      "cell_type": "code",
      "execution_count": 14,
      "metadata": {
        "id": "h07G3srdJppo"
      },
      "outputs": [],
      "source": [
        "# tokenizamos el texto completo\n",
        "tokenized_text = [char2idx[ch] for ch in text]"
      ]
    },
    {
      "cell_type": "code",
      "execution_count": 15,
      "metadata": {
        "id": "PwGVSKOiJ5bj",
        "colab": {
          "base_uri": "https://localhost:8080/"
        },
        "outputId": "320bed13-e64c-48aa-93e5-5d60072d63e1"
      },
      "outputs": [
        {
          "output_type": "execute_result",
          "data": {
            "text/plain": [
              "[58,\n",
              " 3,\n",
              " 9,\n",
              " 9,\n",
              " 3,\n",
              " 32,\n",
              " 5,\n",
              " 17,\n",
              " 68,\n",
              " 3,\n",
              " 18,\n",
              " 49,\n",
              " 28,\n",
              " 59,\n",
              " 17,\n",
              " 51,\n",
              " 50,\n",
              " 27,\n",
              " 31,\n",
              " 28,\n",
              " 5,\n",
              " 32,\n",
              " 59,\n",
              " 66,\n",
              " 50,\n",
              " 31,\n",
              " 17,\n",
              " 60,\n",
              " 50,\n",
              " 57,\n",
              " 3,\n",
              " 66,\n",
              " 32,\n",
              " 48,\n",
              " 3,\n",
              " 28,\n",
              " 59,\n",
              " 19,\n",
              " 17,\n",
              " 13,\n",
              " 28,\n",
              " 31,\n",
              " 17,\n",
              " 60,\n",
              " 50,\n",
              " 18,\n",
              " 17,\n",
              " 52,\n",
              " 53,\n",
              " 28,\n",
              " 17,\n",
              " 5,\n",
              " 32,\n",
              " 57,\n",
              " 50,\n",
              " 17,\n",
              " 3,\n",
              " 48,\n",
              " 17,\n",
              " 25,\n",
              " 28,\n",
              " 49,\n",
              " 49,\n",
              " 3,\n",
              " 18,\n",
              " 9,\n",
              " 50,\n",
              " 17,\n",
              " 52,\n",
              " 3,\n",
              " 48,\n",
              " 53,\n",
              " 17,\n",
              " 9,\n",
              " 28,\n",
              " 29,\n",
              " 50,\n",
              " 17,\n",
              " 41,\n",
              " 8,\n",
              " 30,\n",
              " 33,\n",
              " 17,\n",
              " 2,\n",
              " 51,\n",
              " 69,\n",
              " 34,\n",
              " 17,\n",
              " 46,\n",
              " 65,\n",
              " 35,\n",
              " 15,\n",
              " 8,\n",
              " 17,\n",
              " 46,\n",
              " 35,\n",
              " 33,\n",
              " 36,\n",
              " 17,\n",
              " 15,\n",
              " 63,\n",
              " 61,\n",
              " 69,\n",
              " 23,\n",
              " 17,\n",
              " 7,\n",
              " 17,\n",
              " 33,\n",
              " 53,\n",
              " 50,\n",
              " 17,\n",
              " 49,\n",
              " 20,\n",
              " 40,\n",
              " 17,\n",
              " 32,\n",
              " 18,\n",
              " 28,\n",
              " 29,\n",
              " 50,\n",
              " 17,\n",
              " 48,\n",
              " 53,\n",
              " 50,\n",
              " 17,\n",
              " 25,\n",
              " 28,\n",
              " 31,\n",
              " 48,\n",
              " 17,\n",
              " 52,\n",
              " 32,\n",
              " 49,\n",
              " 17,\n",
              " 48,\n",
              " 53,\n",
              " 50,\n",
              " 17,\n",
              " 66,\n",
              " 28,\n",
              " 9,\n",
              " 28,\n",
              " 31,\n",
              " 17,\n",
              " 28,\n",
              " 13,\n",
              " 17,\n",
              " 48,\n",
              " 50,\n",
              " 9,\n",
              " 50,\n",
              " 29,\n",
              " 3,\n",
              " 49,\n",
              " 3,\n",
              " 28,\n",
              " 59,\n",
              " 1,\n",
              " 17,\n",
              " 48,\n",
              " 27,\n",
              " 59,\n",
              " 50,\n",
              " 57,\n",
              " 17,\n",
              " 48,\n",
              " 28,\n",
              " 17,\n",
              " 32,\n",
              " 17,\n",
              " 57,\n",
              " 50,\n",
              " 32,\n",
              " 57,\n",
              " 17,\n",
              " 66,\n",
              " 53,\n",
              " 32,\n",
              " 59,\n",
              " 59,\n",
              " 50,\n",
              " 9,\n",
              " 34,\n",
              " 17,\n",
              " 62,\n",
              " 35,\n",
              " 48,\n",
              " 0,\n",
              " 49,\n",
              " 17,\n",
              " 59,\n",
              " 28,\n",
              " 48,\n",
              " 17,\n",
              " 9,\n",
              " 3,\n",
              " 20,\n",
              " 50,\n",
              " 17,\n",
              " 35,\n",
              " 0,\n",
              " 5,\n",
              " 17,\n",
              " 27,\n",
              " 49,\n",
              " 3,\n",
              " 59,\n",
              " 42,\n",
              " 1,\n",
              " 62,\n",
              " 17,\n",
              " 46,\n",
              " 32,\n",
              " 49,\n",
              " 50,\n",
              " 17,\n",
              " 53,\n",
              " 50,\n",
              " 32,\n",
              " 31,\n",
              " 57,\n",
              " 17,\n",
              " 49,\n",
              " 28,\n",
              " 5,\n",
              " 50,\n",
              " 28,\n",
              " 59,\n",
              " 50,\n",
              " 17,\n",
              " 49,\n",
              " 32,\n",
              " 40,\n",
              " 1,\n",
              " 17,\n",
              " 32,\n",
              " 49,\n",
              " 17,\n",
              " 53,\n",
              " 50,\n",
              " 17,\n",
              " 49,\n",
              " 53,\n",
              " 28,\n",
              " 27,\n",
              " 9,\n",
              " 57,\n",
              " 50,\n",
              " 31,\n",
              " 50,\n",
              " 57,\n",
              " 17,\n",
              " 53,\n",
              " 3,\n",
              " 49,\n",
              " 17,\n",
              " 52,\n",
              " 32,\n",
              " 40,\n",
              " 17,\n",
              " 48,\n",
              " 53,\n",
              " 31,\n",
              " 28,\n",
              " 27,\n",
              " 42,\n",
              " 53,\n",
              " 17,\n",
              " 48,\n",
              " 53,\n",
              " 50,\n",
              " 17,\n",
              " 66,\n",
              " 31,\n",
              " 28,\n",
              " 52,\n",
              " 57,\n",
              " 17,\n",
              " 32,\n",
              " 31,\n",
              " 28,\n",
              " 27,\n",
              " 59,\n",
              " 57,\n",
              " 17,\n",
              " 48,\n",
              " 53,\n",
              " 50,\n",
              " 17,\n",
              " 57,\n",
              " 28,\n",
              " 28,\n",
              " 31,\n",
              " 17,\n",
              " 28,\n",
              " 13,\n",
              " 17,\n",
              " 48,\n",
              " 53,\n",
              " 50,\n",
              " 17,\n",
              " 46,\n",
              " 53,\n",
              " 32,\n",
              " 48,\n",
              " 34,\n",
              " 17,\n",
              " 62,\n",
              " 35,\n",
              " 48,\n",
              " 0,\n",
              " 49,\n",
              " 17,\n",
              " 9,\n",
              " 3,\n",
              " 20,\n",
              " 50,\n",
              " 17,\n",
              " 5,\n",
              " 40,\n",
              " 17,\n",
              " 18,\n",
              " 28,\n",
              " 57,\n",
              " 40,\n",
              " 0,\n",
              " 49,\n",
              " 17,\n",
              " 57,\n",
              " 50,\n",
              " 29,\n",
              " 50,\n",
              " 9,\n",
              " 28,\n",
              " 25,\n",
              " 50,\n",
              " 57,\n",
              " 17,\n",
              " 48,\n",
              " 53,\n",
              " 3,\n",
              " 49,\n",
              " 17,\n",
              " 5,\n",
              " 32,\n",
              " 49,\n",
              " 49,\n",
              " 3,\n",
              " 29,\n",
              " 50,\n",
              " 17,\n",
              " 57,\n",
              " 31,\n",
              " 27,\n",
              " 42,\n",
              " 17,\n",
              " 57,\n",
              " 50,\n",
              " 13,\n",
              " 3,\n",
              " 54,\n",
              " 17,\n",
              " 66,\n",
              " 3,\n",
              " 50,\n",
              " 59,\n",
              " 66,\n",
              " 40,\n",
              " 34,\n",
              " 62,\n",
              " 17,\n",
              " 35,\n",
              " 48,\n",
              " 17,\n",
              " 52,\n",
              " 32,\n",
              " 49,\n",
              " 17,\n",
              " 32,\n",
              " 17,\n",
              " 23,\n",
              " 25,\n",
              " 31,\n",
              " 32,\n",
              " 52,\n",
              " 9,\n",
              " 17,\n",
              " 29,\n",
              " 28,\n",
              " 3,\n",
              " 66,\n",
              " 50,\n",
              " 17,\n",
              " 32,\n",
              " 59,\n",
              " 57,\n",
              " 17,\n",
              " 32,\n",
              " 17,\n",
              " 23,\n",
              " 25,\n",
              " 31,\n",
              " 32,\n",
              " 52,\n",
              " 9,\n",
              " 17,\n",
              " 45,\n",
              " 28,\n",
              " 20,\n",
              " 50,\n",
              " 34,\n",
              " 17,\n",
              " 33,\n",
              " 53,\n",
              " 50,\n",
              " 17,\n",
              " 46,\n",
              " 53,\n",
              " 32,\n",
              " 48,\n",
              " 49,\n",
              " 27,\n",
              " 18,\n",
              " 28,\n",
              " 17,\n",
              " 52,\n",
              " 32,\n",
              " 49,\n",
              " 17,\n",
              " 32,\n",
              " 17,\n",
              " 18,\n",
              " 32,\n",
              " 31,\n",
              " 17,\n",
              " 13,\n",
              " 28,\n",
              " 31,\n",
              " 17,\n",
              " 25,\n",
              " 31,\n",
              " 28,\n",
              " 13,\n",
              " 50,\n",
              " 49,\n",
              " 49,\n",
              " 3,\n",
              " 28,\n",
              " 59,\n",
              " 32,\n",
              " 9,\n",
              " 17,\n",
              " 50,\n",
              " 11,\n",
              " 25,\n",
              " 32,\n",
              " 48,\n",
              " 31,\n",
              " 3,\n",
              " 32,\n",
              " 48,\n",
              " 50,\n",
              " 49,\n",
              " 14,\n",
              " 17,\n",
              " 40,\n",
              " 28,\n",
              " 27,\n",
              " 17,\n",
              " 66,\n",
              " 28,\n",
              " 27,\n",
              " 9,\n",
              " 57,\n",
              " 17,\n",
              " 57,\n",
              " 31,\n",
              " 3,\n",
              " 59,\n",
              " 20,\n",
              " 17,\n",
              " 48,\n",
              " 53,\n",
              " 50,\n",
              " 31,\n",
              " 50,\n",
              " 17,\n",
              " 13,\n",
              " 28,\n",
              " 31,\n",
              " 17,\n",
              " 32,\n",
              " 17,\n",
              " 52,\n",
              " 50,\n",
              " 50,\n",
              " 20,\n",
              " 17,\n",
              " 32,\n",
              " 59,\n",
              " 57,\n",
              " 17,\n",
              " 59,\n",
              " 50,\n",
              " 29,\n",
              " 50,\n",
              " 31,\n",
              " 17,\n",
              " 53,\n",
              " 50,\n",
              " 32,\n",
              " 31,\n",
              " 17,\n",
              " 48,\n",
              " 52,\n",
              " 28,\n",
              " 17,\n",
              " 52,\n",
              " 28,\n",
              " 31,\n",
              " 57,\n",
              " 49,\n",
              " 17,\n",
              " 3,\n",
              " 59,\n",
              " 17,\n",
              " 4,\n",
              " 32,\n",
              " 25,\n",
              " 32,\n",
              " 59,\n",
              " 50,\n",
              " 49,\n",
              " 50,\n",
              " 34,\n",
              " 17,\n",
              " 30,\n",
              " 32,\n",
              " 48,\n",
              " 24,\n",
              " 17,\n",
              " 52,\n",
              " 32,\n",
              " 49,\n",
              " 17,\n",
              " 48,\n",
              " 50,\n",
              " 59,\n",
              " 57,\n",
              " 3,\n",
              " 59,\n",
              " 42,\n",
              " 17,\n",
              " 18,\n",
              " 32,\n",
              " 31,\n",
              " 1,\n",
              " 17,\n",
              " 53,\n",
              " 3,\n",
              " 49,\n",
              " 17,\n",
              " 25,\n",
              " 31,\n",
              " 28,\n",
              " 49,\n",
              " 48,\n",
              " 53,\n",
              " 50,\n",
              " 48,\n",
              " 3,\n",
              " 66,\n",
              " 17,\n",
              " 32,\n",
              " 31,\n",
              " 5,\n",
              " 17,\n",
              " 45,\n",
              " 50,\n",
              " 31,\n",
              " 20,\n",
              " 3,\n",
              " 59,\n",
              " 42,\n",
              " 17,\n",
              " 5,\n",
              " 28,\n",
              " 59,\n",
              " 28,\n",
              " 48,\n",
              " 28,\n",
              " 54,\n",
              " 17,\n",
              " 59,\n",
              " 28,\n",
              " 27,\n",
              " 49,\n",
              " 9,\n",
              " 40,\n",
              " 17,\n",
              " 32,\n",
              " 49,\n",
              " 17,\n",
              " 53,\n",
              " 50,\n",
              " 17,\n",
              " 13,\n",
              " 3,\n",
              " 9,\n",
              " 9,\n",
              " 50,\n",
              " 57,\n",
              " 17,\n",
              " 32,\n",
              " 17,\n",
              " 48,\n",
              " 31,\n",
              " 32,\n",
              " 40,\n",
              " 17,\n",
              " 28,\n",
              " 13,\n",
              " 17,\n",
              " 42,\n",
              " 9,\n",
              " 32,\n",
              " 49,\n",
              " 49,\n",
              " 50,\n",
              " 49,\n",
              " 17,\n",
              " 52,\n",
              " 3,\n",
              " 48,\n",
              " 53,\n",
              " 17,\n",
              " 57,\n",
              " 31,\n",
              " 32,\n",
              " 13,\n",
              " 48,\n",
              " 17,\n",
              " 16,\n",
              " 3,\n",
              " 31,\n",
              " 3,\n",
              " 59,\n",
              " 34,\n",
              " 17,\n",
              " 65,\n",
              " 50,\n",
              " 17,\n",
              " 49,\n",
              " 32,\n",
              " 52,\n",
              " 17,\n",
              " 46,\n",
              " 32,\n",
              " 49,\n",
              " 50,\n",
              " 17,\n",
              " 32,\n",
              " 59,\n",
              " 57,\n",
              " 17,\n",
              " 49,\n",
              " 5,\n",
              " 3,\n",
              " 9,\n",
              " 50,\n",
              " 57,\n",
              " 1,\n",
              " 17,\n",
              " 53,\n",
              " 3,\n",
              " 49,\n",
              " 17,\n",
              " 48,\n",
              " 50,\n",
              " 50,\n",
              " 48,\n",
              " 53,\n",
              " 17,\n",
              " 32,\n",
              " 17,\n",
              " 52,\n",
              " 50,\n",
              " 18,\n",
              " 17,\n",
              " 52,\n",
              " 28,\n",
              " 31,\n",
              " 20,\n",
              " 17,\n",
              " 28,\n",
              " 13,\n",
              " 17,\n",
              " 69,\n",
              " 32,\n",
              " 49,\n",
              " 48,\n",
              " 17,\n",
              " 69,\n",
              " 27,\n",
              " 31,\n",
              " 28,\n",
              " 25,\n",
              " 50,\n",
              " 32,\n",
              " 59,\n",
              " 17,\n",
              " 49,\n",
              " 48,\n",
              " 50,\n",
              " 50,\n",
              " 9,\n",
              " 17,\n",
              " 32,\n",
              " 59,\n",
              " 57,\n",
              " 17,\n",
              " 18,\n",
              " 31,\n",
              " 28,\n",
              " 52,\n",
              " 59,\n",
              " 17,\n",
              " 57,\n",
              " 50,\n",
              " 66,\n",
              " 32,\n",
              " 40,\n",
              " 34,\n",
              " 17,\n",
              " 46,\n",
              " 32,\n",
              " 49,\n",
              " 50,\n",
              " 17,\n",
              " 13,\n",
              " 28,\n",
              " 27,\n",
              " 59,\n",
              " 57,\n",
              " 17,\n",
              " 32,\n",
              " 17,\n",
              " 25,\n",
              " 9,\n",
              " 32,\n",
              " 66,\n",
              " 50,\n",
              " 17,\n",
              " 32,\n",
              " 48,\n",
              " 17,\n",
              " 48,\n",
              " 53,\n",
              " 50,\n",
              " 17,\n",
              " 18,\n",
              " 32,\n",
              " 31,\n",
              " 1,\n",
              " 17,\n",
              " 18,\n",
              " 50,\n",
              " 48,\n",
              " 52,\n",
              " 50,\n",
              " 50,\n",
              " 59,\n",
              " 17,\n",
              " 48,\n",
              " 53,\n",
              " 50,\n",
              " 17,\n",
              " 27,\n",
              " 59,\n",
              " 9,\n",
              " 3,\n",
              " 20,\n",
              " 50,\n",
              " 9,\n",
              " 40,\n",
              " 17,\n",
              " 48,\n",
              " 32,\n",
              " 59,\n",
              " 17,\n",
              " 28,\n",
              " 59,\n",
              " 17,\n",
              " 28,\n",
              " 59,\n",
              " 50,\n",
              " 17,\n",
              " 28,\n",
              " 13,\n",
              " 17,\n",
              " 63,\n",
              " 28,\n",
              " 59,\n",
              " 59,\n",
              " 40,\n",
              " 17,\n",
              " 37,\n",
              " 28,\n",
              " 59,\n",
              " 50,\n",
              " 0,\n",
              " 49,\n",
              " 17,\n",
              " 52,\n",
              " 53,\n",
              " 28,\n",
              " 31,\n",
              " 50,\n",
              " 49,\n",
              " 17,\n",
              " 32,\n",
              " 59,\n",
              " 57,\n",
              " 17,\n",
              " 48,\n",
              " 53,\n",
              " 50,\n",
              " 17,\n",
              " 66,\n",
              " 31,\n",
              " 3,\n",
              " 49,\n",
              " 25,\n",
              " 17,\n",
              " 59,\n",
              " 32,\n",
              " 29,\n",
              " 32,\n",
              " 9,\n",
              " 17,\n",
              " 27,\n",
              " 59,\n",
              " 3,\n",
              " 13,\n",
              " 28,\n",
              " 31,\n",
              " 5,\n",
              " 17,\n",
              " 28,\n",
              " 13,\n",
              " 17,\n",
              " 32,\n",
              " 17,\n",
              " 48,\n",
              " 32,\n",
              " 9,\n",
              " 9,\n",
              " 17,\n",
              " 8,\n",
              " 13,\n",
              " 31,\n",
              " 3,\n",
              " 66,\n",
              " 32,\n",
              " 59,\n",
              " 17,\n",
              " 52,\n",
              " 53,\n",
              " 28,\n",
              " 49,\n",
              " 50,\n",
              " 17,\n",
              " 66,\n",
              " 53,\n",
              " 50,\n",
              " 50,\n",
              " 20,\n",
              " 18,\n",
              " 28,\n",
              " 59,\n",
              " 50,\n",
              " 49,\n",
              " 17,\n",
              " 52,\n",
              " 50,\n",
              " 31,\n",
              " 50,\n",
              " 17,\n",
              " 31,\n",
              " 3,\n",
              " 57,\n",
              " 42,\n",
              " 50,\n",
              " 57,\n",
              " 17,\n",
              " 52,\n",
              " 3,\n",
              " 48,\n",
              " 53,\n",
              " 17,\n",
              " 25,\n",
              " 31,\n",
              " 50,\n",
              " 66,\n",
              " 3,\n",
              " 49,\n",
              " 50,\n",
              " 17,\n",
              " 31,\n",
              " 28,\n",
              " 52,\n",
              " 49,\n",
              " 17,\n",
              " 28,\n",
              " 13,\n",
              " 17,\n",
              " 48,\n",
              " 31,\n",
              " 3,\n",
              " 18,\n",
              " 32,\n",
              " 9,\n",
              " 17,\n",
              " 49,\n",
              " 66,\n",
              " 32,\n",
              " 31,\n",
              " 49,\n",
              " 34,\n",
              " 17,\n",
              " 62,\n",
              " 58,\n",
              " 32,\n",
              " 42,\n",
              " 50,\n",
              " 17,\n",
              " 52,\n",
              " 32,\n",
              " 49,\n",
              " 17,\n",
              " 3,\n",
              " 59,\n",
              " 17,\n",
              " 53,\n",
              " 50,\n",
              " 31,\n",
              " 50,\n",
              " 17,\n",
              " 50,\n",
              " 32,\n",
              " 31,\n",
              " 9,\n",
              " 40,\n",
              " 1,\n",
              " 17,\n",
              " 52,\n",
              " 3,\n",
              " 48,\n",
              " 53,\n",
              " 17,\n",
              " 48,\n",
              " 52,\n",
              " 28,\n",
              " 17,\n",
              " 4,\n",
              " 28,\n",
              " 50,\n",
              " 17,\n",
              " 18,\n",
              " 28,\n",
              " 40,\n",
              " 49,\n",
              " 1,\n",
              " 62,\n",
              " 17,\n",
              " 30,\n",
              " 32,\n",
              " 48,\n",
              " 24,\n",
              " 17,\n",
              " 49,\n",
              " 32,\n",
              " 3,\n",
              " 57,\n",
              " 1,\n",
              " 17,\n",
              " 49,\n",
              " 53,\n",
              " 28,\n",
              " 29,\n",
              " 3,\n",
              " 59,\n",
              " 42,\n",
              " 17,\n",
              " 32,\n",
              " 17,\n",
              " 57,\n",
              " 31,\n",
              " 32,\n",
              " 13]"
            ]
          },
          "metadata": {},
          "execution_count": 15
        }
      ],
      "source": [
        "tokenized_text[:1000]"
      ]
    },
    {
      "cell_type": "markdown",
      "metadata": {
        "id": "pfpYcaypKcI9"
      },
      "source": [
        "### Organizando y estructurando el dataset"
      ]
    },
    {
      "cell_type": "code",
      "execution_count": 16,
      "metadata": {
        "id": "WSSmg9jtKP0T"
      },
      "outputs": [],
      "source": [
        "# separaremos el dataset entre entrenamiento y validación.\n",
        "# `p_val` será la proporción del corpus que se reservará para validación\n",
        "# `num_val` es la cantidad de secuencias de tamaño `max_context_size` que se usará en validación\n",
        "p_val = 0.1\n",
        "num_val = int(np.ceil(len(tokenized_text)*p_val/max_context_size))"
      ]
    },
    {
      "cell_type": "code",
      "execution_count": 17,
      "metadata": {
        "id": "b7dCpGrdKll0"
      },
      "outputs": [],
      "source": [
        "# separamos la porción de texto utilizada en entrenamiento de la de validación.\n",
        "train_text = tokenized_text[:-num_val*max_context_size]\n",
        "val_text = tokenized_text[-num_val*max_context_size:]"
      ]
    },
    {
      "cell_type": "code",
      "execution_count": 18,
      "metadata": {
        "id": "NmxQdxl8LRCg"
      },
      "outputs": [],
      "source": [
        "tokenized_sentences_val = [val_text[init*max_context_size:init*(max_context_size+1)] for init in range(num_val)]"
      ]
    },
    {
      "cell_type": "code",
      "execution_count": 19,
      "metadata": {
        "id": "_gyFT9koLqDm"
      },
      "outputs": [],
      "source": [
        "tokenized_sentences_train = [train_text[init:init+max_context_size] for init in range(len(train_text)-max_context_size+1)]"
      ]
    },
    {
      "cell_type": "code",
      "execution_count": 20,
      "metadata": {
        "id": "oVNqmmLRodT0"
      },
      "outputs": [],
      "source": [
        "X = np.array(tokenized_sentences_train[:-1])\n",
        "y = np.array(tokenized_sentences_train[1:])"
      ]
    },
    {
      "cell_type": "markdown",
      "metadata": {
        "id": "Vken7O4ETsAJ"
      },
      "source": [
        "Nótese que estamos estructurando el problema de aprendizaje como *many-to-many*:\n",
        "\n",
        "Entrada: secuencia de tokens [$x_0$, $x_1$, ..., $x_N$]\n",
        "\n",
        "Target: secuencia de tokens [$x_1$, $x_2$, ..., $x_{N+1}$]\n",
        "\n",
        "De manera que la red tiene que aprender que su salida deben ser los tokens desplazados en una posición y un nuevo token predicho (el N+1).\n",
        "\n",
        "La ventaja de estructurar el aprendizaje de esta manera es que para cada token de target se propaga una señal de gradiente por el grafo de cómputo recurrente, que es mejor que estructurar el problema como *many-to-one* en donde sólo una señal de gradiente se propaga."
      ]
    },
    {
      "cell_type": "markdown",
      "metadata": {
        "id": "l3iPTx-UJl6r"
      },
      "source": [
        "En este punto tenemos en la variable `tokenized_sentences` los versos tokenizados. Vamos a quedarnos con un conjunto de validación que utilizaremos para medir la calidad de la generación de secuencias con la métrica de Perplejidad."
      ]
    },
    {
      "cell_type": "code",
      "execution_count": 21,
      "metadata": {
        "id": "KFAyA4zCWE-5",
        "colab": {
          "base_uri": "https://localhost:8080/"
        },
        "outputId": "f80192e5-69b6-4a7b-e915-2b16b15e0e54"
      },
      "outputs": [
        {
          "output_type": "execute_result",
          "data": {
            "text/plain": [
              "(80975, 100)"
            ]
          },
          "metadata": {},
          "execution_count": 21
        }
      ],
      "source": [
        "X.shape"
      ]
    },
    {
      "cell_type": "code",
      "execution_count": 22,
      "metadata": {
        "id": "qcKRl70HFTzG",
        "colab": {
          "base_uri": "https://localhost:8080/"
        },
        "outputId": "ffff222c-d961-4bfa-ad91-0d68d7325032"
      },
      "outputs": [
        {
          "output_type": "execute_result",
          "data": {
            "text/plain": [
              "array([63, 61, 69, 23, 17,  7, 17, 33, 53, 50, 17, 49, 20, 40, 17, 32, 18,\n",
              "       28, 29, 50, 17, 48, 53, 50, 17, 25, 28, 31, 48, 17, 52, 32, 49, 17,\n",
              "       48, 53, 50, 17, 66, 28,  9, 28, 31, 17, 28, 13, 17, 48, 50,  9, 50,\n",
              "       29,  3, 49,  3, 28, 59,  1, 17, 48, 27, 59, 50, 57, 17, 48, 28, 17,\n",
              "       32, 17, 57, 50, 32, 57, 17, 66, 53, 32, 59, 59, 50,  9, 34, 17, 62,\n",
              "       35, 48,  0, 49, 17, 59, 28, 48, 17,  9,  3, 20, 50, 17, 35])"
            ]
          },
          "metadata": {},
          "execution_count": 22
        }
      ],
      "source": [
        "X[100,:100]"
      ]
    },
    {
      "cell_type": "code",
      "execution_count": 23,
      "metadata": {
        "id": "TVpLCKSZFXZO",
        "colab": {
          "base_uri": "https://localhost:8080/"
        },
        "outputId": "720d77c3-d3ff-4467-be33-b319557c2752"
      },
      "outputs": [
        {
          "output_type": "execute_result",
          "data": {
            "text/plain": [
              "array([61, 69, 23, 17,  7, 17, 33, 53, 50, 17, 49, 20, 40, 17, 32, 18, 28,\n",
              "       29, 50, 17, 48, 53, 50, 17, 25, 28, 31, 48, 17, 52, 32, 49, 17, 48,\n",
              "       53, 50, 17, 66, 28,  9, 28, 31, 17, 28, 13, 17, 48, 50,  9, 50, 29,\n",
              "        3, 49,  3, 28, 59,  1, 17, 48, 27, 59, 50, 57, 17, 48, 28, 17, 32,\n",
              "       17, 57, 50, 32, 57, 17, 66, 53, 32, 59, 59, 50,  9, 34, 17, 62, 35,\n",
              "       48,  0, 49, 17, 59, 28, 48, 17,  9,  3, 20, 50, 17, 35,  0])"
            ]
          },
          "metadata": {},
          "execution_count": 23
        }
      ],
      "source": [
        "y[100,:100]"
      ]
    },
    {
      "cell_type": "code",
      "execution_count": 20,
      "metadata": {
        "id": "wOFCR-KqbW1N"
      },
      "outputs": [],
      "source": [
        "vocab_size = len(chars_vocab)"
      ]
    },
    {
      "cell_type": "markdown",
      "metadata": {
        "id": "tnnjdAQ5UAEJ"
      },
      "source": [
        "# Definiendo el modelo"
      ]
    },
    {
      "cell_type": "code",
      "execution_count": 24,
      "metadata": {
        "id": "rkMCZvmhrQz4"
      },
      "outputs": [],
      "source": [
        "from keras.layers import Input, TimeDistributed, CategoryEncoding, SimpleRNN, Dense\n",
        "from keras.models import Model, Sequential"
      ]
    },
    {
      "cell_type": "markdown",
      "metadata": {
        "id": "wgz7VKwTUbj6"
      },
      "source": [
        "El modelo que se propone como ejemplo consume los índices de los tokens y los transforma en vectores OHE (en este caso no entrenamos una capa de embedding para caracteres). Esa transformación se logra combinando las capas `CategoryEncoding` que transforma a índices a vectores OHE y `TimeDistributed` que aplica la capa a lo largo de la dimensión \"temporal\" de la secuencia."
      ]
    },
    {
      "cell_type": "code",
      "execution_count": 27,
      "metadata": {
        "id": "Zd2OkfQYs2Q7",
        "colab": {
          "base_uri": "https://localhost:8080/",
          "height": 296
        },
        "outputId": "34a3c22d-c3ce-4646-cac2-6270c5db0e7e"
      },
      "outputs": [
        {
          "output_type": "stream",
          "name": "stderr",
          "text": [
            "/usr/local/lib/python3.11/dist-packages/keras/src/layers/core/wrapper.py:27: UserWarning: Do not pass an `input_shape`/`input_dim` argument to a layer. When using Sequential models, prefer using an `Input(shape)` object as the first layer in the model instead.\n",
            "  super().__init__(**kwargs)\n"
          ]
        },
        {
          "output_type": "display_data",
          "data": {
            "text/plain": [
              "\u001b[1mModel: \"sequential_1\"\u001b[0m\n"
            ],
            "text/html": [
              "<pre style=\"white-space:pre;overflow-x:auto;line-height:normal;font-family:Menlo,'DejaVu Sans Mono',consolas,'Courier New',monospace\"><span style=\"font-weight: bold\">Model: \"sequential_1\"</span>\n",
              "</pre>\n"
            ]
          },
          "metadata": {}
        },
        {
          "output_type": "display_data",
          "data": {
            "text/plain": [
              "┏━━━━━━━━━━━━━━━━━━━━━━━━━━━━━━━━━┳━━━━━━━━━━━━━━━━━━━━━━━━┳━━━━━━━━━━━━━━━┓\n",
              "┃\u001b[1m \u001b[0m\u001b[1mLayer (type)                   \u001b[0m\u001b[1m \u001b[0m┃\u001b[1m \u001b[0m\u001b[1mOutput Shape          \u001b[0m\u001b[1m \u001b[0m┃\u001b[1m \u001b[0m\u001b[1m      Param #\u001b[0m\u001b[1m \u001b[0m┃\n",
              "┡━━━━━━━━━━━━━━━━━━━━━━━━━━━━━━━━━╇━━━━━━━━━━━━━━━━━━━━━━━━╇━━━━━━━━━━━━━━━┩\n",
              "│ time_distributed                │ (\u001b[38;5;45mNone\u001b[0m, \u001b[38;5;45mNone\u001b[0m, \u001b[38;5;34m70\u001b[0m)       │             \u001b[38;5;34m0\u001b[0m │\n",
              "│ (\u001b[38;5;33mTimeDistributed\u001b[0m)               │                        │               │\n",
              "├─────────────────────────────────┼────────────────────────┼───────────────┤\n",
              "│ simple_rnn (\u001b[38;5;33mSimpleRNN\u001b[0m)          │ (\u001b[38;5;45mNone\u001b[0m, \u001b[38;5;45mNone\u001b[0m, \u001b[38;5;34m200\u001b[0m)      │        \u001b[38;5;34m54,200\u001b[0m │\n",
              "├─────────────────────────────────┼────────────────────────┼───────────────┤\n",
              "│ dense (\u001b[38;5;33mDense\u001b[0m)                   │ (\u001b[38;5;45mNone\u001b[0m, \u001b[38;5;45mNone\u001b[0m, \u001b[38;5;34m70\u001b[0m)       │        \u001b[38;5;34m14,070\u001b[0m │\n",
              "└─────────────────────────────────┴────────────────────────┴───────────────┘\n"
            ],
            "text/html": [
              "<pre style=\"white-space:pre;overflow-x:auto;line-height:normal;font-family:Menlo,'DejaVu Sans Mono',consolas,'Courier New',monospace\">┏━━━━━━━━━━━━━━━━━━━━━━━━━━━━━━━━━┳━━━━━━━━━━━━━━━━━━━━━━━━┳━━━━━━━━━━━━━━━┓\n",
              "┃<span style=\"font-weight: bold\"> Layer (type)                    </span>┃<span style=\"font-weight: bold\"> Output Shape           </span>┃<span style=\"font-weight: bold\">       Param # </span>┃\n",
              "┡━━━━━━━━━━━━━━━━━━━━━━━━━━━━━━━━━╇━━━━━━━━━━━━━━━━━━━━━━━━╇━━━━━━━━━━━━━━━┩\n",
              "│ time_distributed                │ (<span style=\"color: #00d7ff; text-decoration-color: #00d7ff\">None</span>, <span style=\"color: #00d7ff; text-decoration-color: #00d7ff\">None</span>, <span style=\"color: #00af00; text-decoration-color: #00af00\">70</span>)       │             <span style=\"color: #00af00; text-decoration-color: #00af00\">0</span> │\n",
              "│ (<span style=\"color: #0087ff; text-decoration-color: #0087ff\">TimeDistributed</span>)               │                        │               │\n",
              "├─────────────────────────────────┼────────────────────────┼───────────────┤\n",
              "│ simple_rnn (<span style=\"color: #0087ff; text-decoration-color: #0087ff\">SimpleRNN</span>)          │ (<span style=\"color: #00d7ff; text-decoration-color: #00d7ff\">None</span>, <span style=\"color: #00d7ff; text-decoration-color: #00d7ff\">None</span>, <span style=\"color: #00af00; text-decoration-color: #00af00\">200</span>)      │        <span style=\"color: #00af00; text-decoration-color: #00af00\">54,200</span> │\n",
              "├─────────────────────────────────┼────────────────────────┼───────────────┤\n",
              "│ dense (<span style=\"color: #0087ff; text-decoration-color: #0087ff\">Dense</span>)                   │ (<span style=\"color: #00d7ff; text-decoration-color: #00d7ff\">None</span>, <span style=\"color: #00d7ff; text-decoration-color: #00d7ff\">None</span>, <span style=\"color: #00af00; text-decoration-color: #00af00\">70</span>)       │        <span style=\"color: #00af00; text-decoration-color: #00af00\">14,070</span> │\n",
              "└─────────────────────────────────┴────────────────────────┴───────────────┘\n",
              "</pre>\n"
            ]
          },
          "metadata": {}
        },
        {
          "output_type": "display_data",
          "data": {
            "text/plain": [
              "\u001b[1m Total params: \u001b[0m\u001b[38;5;34m68,270\u001b[0m (266.68 KB)\n"
            ],
            "text/html": [
              "<pre style=\"white-space:pre;overflow-x:auto;line-height:normal;font-family:Menlo,'DejaVu Sans Mono',consolas,'Courier New',monospace\"><span style=\"font-weight: bold\"> Total params: </span><span style=\"color: #00af00; text-decoration-color: #00af00\">68,270</span> (266.68 KB)\n",
              "</pre>\n"
            ]
          },
          "metadata": {}
        },
        {
          "output_type": "display_data",
          "data": {
            "text/plain": [
              "\u001b[1m Trainable params: \u001b[0m\u001b[38;5;34m68,270\u001b[0m (266.68 KB)\n"
            ],
            "text/html": [
              "<pre style=\"white-space:pre;overflow-x:auto;line-height:normal;font-family:Menlo,'DejaVu Sans Mono',consolas,'Courier New',monospace\"><span style=\"font-weight: bold\"> Trainable params: </span><span style=\"color: #00af00; text-decoration-color: #00af00\">68,270</span> (266.68 KB)\n",
              "</pre>\n"
            ]
          },
          "metadata": {}
        },
        {
          "output_type": "display_data",
          "data": {
            "text/plain": [
              "\u001b[1m Non-trainable params: \u001b[0m\u001b[38;5;34m0\u001b[0m (0.00 B)\n"
            ],
            "text/html": [
              "<pre style=\"white-space:pre;overflow-x:auto;line-height:normal;font-family:Menlo,'DejaVu Sans Mono',consolas,'Courier New',monospace\"><span style=\"font-weight: bold\"> Non-trainable params: </span><span style=\"color: #00af00; text-decoration-color: #00af00\">0</span> (0.00 B)\n",
              "</pre>\n"
            ]
          },
          "metadata": {}
        }
      ],
      "source": [
        "model = Sequential()\n",
        "\n",
        "model.add(TimeDistributed(CategoryEncoding(num_tokens=vocab_size, output_mode = \"one_hot\"),input_shape=(None,1)))\n",
        "model.add(SimpleRNN(200, return_sequences=True, dropout=0.1, recurrent_dropout=0.1 ))\n",
        "model.add(Dense(vocab_size, activation='softmax'))\n",
        "model.compile(loss='sparse_categorical_crossentropy', optimizer='rmsprop')\n",
        "\n",
        "model.summary()"
      ]
    },
    {
      "cell_type": "markdown",
      "metadata": {
        "id": "GmJWNyxQwfCE"
      },
      "source": [
        "\n",
        "### Definir el modelo"
      ]
    },
    {
      "cell_type": "markdown",
      "metadata": {
        "id": "YWK3z85sQfUe"
      },
      "source": [
        "Dado que por el momento no hay implementaciones adecuadas de la perplejidad que puedan operar en tiempo de entrenamiento, armaremos un Callback *ad-hoc* que la calcule en cada epoch.\n",
        "\n",
        "**Nota**: un Callback es una rutina gatillada por algún evento, son muy útiles para relevar datos en diferentes momentos del desarrollo del modelo. En este caso queremos hacer un cálculo cada vez que termina una epoch de entrenamiento."
      ]
    },
    {
      "cell_type": "code",
      "execution_count": 28,
      "metadata": {
        "id": "zUHX3r5JD-MG"
      },
      "outputs": [],
      "source": [
        "class PplCallback(keras.callbacks.Callback):\n",
        "\n",
        "    '''\n",
        "    Este callback es una solución ad-hoc para calcular al final de cada epoch de\n",
        "    entrenamiento la métrica de Perplejidad sobre un conjunto de datos de validación.\n",
        "    La perplejidad es una métrica cuantitativa para evaluar la calidad de la generación de secuencias.\n",
        "    Además implementa la finalización del entrenamiento (Early Stopping)\n",
        "    si la perplejidad no mejora después de `patience` epochs.\n",
        "    '''\n",
        "\n",
        "    def __init__(self, val_data, history_ppl,patience=5):\n",
        "      # El callback lo inicializamos con secuencias de validación sobre las cuales\n",
        "      # mediremos la perplejidad\n",
        "      self.val_data = val_data\n",
        "\n",
        "      self.target = []\n",
        "      self.padded = []\n",
        "\n",
        "      count = 0\n",
        "      self.info = []\n",
        "      self.min_score = np.inf\n",
        "      self.patience_counter = 0\n",
        "      self.patience = patience\n",
        "\n",
        "      # nos movemos en todas las secuencias de los datos de validación\n",
        "      for seq in self.val_data:\n",
        "\n",
        "        len_seq = len(seq)\n",
        "        # armamos todas las subsecuencias\n",
        "        subseq = [seq[:i] for i in range(1,len_seq)]\n",
        "        self.target.extend([seq[i] for i in range(1,len_seq)])\n",
        "\n",
        "        if len(subseq)!=0:\n",
        "\n",
        "          self.padded.append(pad_sequences(subseq, maxlen=max_context_size, padding='pre'))\n",
        "\n",
        "          self.info.append((count,count+len_seq))\n",
        "          count += len_seq\n",
        "\n",
        "      self.padded = np.vstack(self.padded)\n",
        "\n",
        "\n",
        "    def on_epoch_end(self, epoch, logs=None):\n",
        "\n",
        "        # en `scores` iremos guardando la perplejidad de cada secuencia\n",
        "        scores = []\n",
        "\n",
        "        predictions = self.model.predict(self.padded,verbose=0)\n",
        "\n",
        "        # para cada secuencia de validación\n",
        "        for start,end in self.info:\n",
        "\n",
        "          # en `probs` iremos guardando las probabilidades de los términos target\n",
        "          probs = [predictions[idx_seq,-1,idx_vocab] for idx_seq, idx_vocab in zip(range(start,end),self.target[start:end])]\n",
        "\n",
        "          # calculamos la perplejidad por medio de logaritmos\n",
        "          scores.append(np.exp(-np.sum(np.log(probs))/(end-start)))\n",
        "\n",
        "        # promediamos todos los scores e imprimimos el valor promedio\n",
        "        current_score = np.mean(scores)\n",
        "        history_ppl.append(current_score)\n",
        "        print(f'\\n mean perplexity: {current_score} \\n')\n",
        "\n",
        "        # chequeamos si tenemos que detener el entrenamiento\n",
        "        if current_score < self.min_score:\n",
        "          self.min_score = current_score\n",
        "          self.model.save(\"my_model.keras\")\n",
        "          print(\"Saved new model!\")\n",
        "          self.patience_counter = 0\n",
        "        else:\n",
        "          self.patience_counter += 1\n",
        "          if self.patience_counter == self.patience:\n",
        "            print(\"Stopping training...\")\n",
        "            self.model.stop_training = True\n"
      ]
    },
    {
      "cell_type": "markdown",
      "metadata": {
        "id": "8HBZIwR0gruA"
      },
      "source": [
        "### Entrenamiento"
      ]
    },
    {
      "cell_type": "code",
      "execution_count": 29,
      "metadata": {
        "id": "oQq1PHDkxDvN",
        "colab": {
          "base_uri": "https://localhost:8080/"
        },
        "outputId": "1a9b84e3-9ae8-43e2-de9f-1c7535e90b90"
      },
      "outputs": [
        {
          "output_type": "stream",
          "name": "stdout",
          "text": [
            "Epoch 1/20\n",
            "\u001b[1m317/317\u001b[0m \u001b[32m━━━━━━━━━━━━━━━━━━━━\u001b[0m\u001b[37m\u001b[0m \u001b[1m0s\u001b[0m 308ms/step - loss: 2.9009\n",
            " mean perplexity: 11.130653381347656 \n",
            "\n",
            "Saved new model!\n",
            "\u001b[1m317/317\u001b[0m \u001b[32m━━━━━━━━━━━━━━━━━━━━\u001b[0m\u001b[37m\u001b[0m \u001b[1m114s\u001b[0m 341ms/step - loss: 2.9000\n",
            "Epoch 2/20\n",
            "\u001b[1m317/317\u001b[0m \u001b[32m━━━━━━━━━━━━━━━━━━━━\u001b[0m\u001b[37m\u001b[0m \u001b[1m0s\u001b[0m 312ms/step - loss: 2.2921\n",
            " mean perplexity: 9.901973724365234 \n",
            "\n",
            "Saved new model!\n",
            "\u001b[1m317/317\u001b[0m \u001b[32m━━━━━━━━━━━━━━━━━━━━\u001b[0m\u001b[37m\u001b[0m \u001b[1m135s\u001b[0m 319ms/step - loss: 2.2920\n",
            "Epoch 3/20\n",
            "\u001b[1m317/317\u001b[0m \u001b[32m━━━━━━━━━━━━━━━━━━━━\u001b[0m\u001b[37m\u001b[0m \u001b[1m0s\u001b[0m 298ms/step - loss: 2.1738\n",
            " mean perplexity: 9.173011779785156 \n",
            "\n",
            "Saved new model!\n",
            "\u001b[1m317/317\u001b[0m \u001b[32m━━━━━━━━━━━━━━━━━━━━\u001b[0m\u001b[37m\u001b[0m \u001b[1m140s\u001b[0m 314ms/step - loss: 2.1737\n",
            "Epoch 4/20\n",
            "\u001b[1m317/317\u001b[0m \u001b[32m━━━━━━━━━━━━━━━━━━━━\u001b[0m\u001b[37m\u001b[0m \u001b[1m0s\u001b[0m 302ms/step - loss: 2.0850\n",
            " mean perplexity: 8.824828147888184 \n",
            "\n",
            "Saved new model!\n",
            "\u001b[1m317/317\u001b[0m \u001b[32m━━━━━━━━━━━━━━━━━━━━\u001b[0m\u001b[37m\u001b[0m \u001b[1m141s\u001b[0m 311ms/step - loss: 2.0850\n",
            "Epoch 5/20\n",
            "\u001b[1m317/317\u001b[0m \u001b[32m━━━━━━━━━━━━━━━━━━━━\u001b[0m\u001b[37m\u001b[0m \u001b[1m0s\u001b[0m 299ms/step - loss: 2.0139\n",
            " mean perplexity: 8.732154846191406 \n",
            "\n",
            "Saved new model!\n",
            "\u001b[1m317/317\u001b[0m \u001b[32m━━━━━━━━━━━━━━━━━━━━\u001b[0m\u001b[37m\u001b[0m \u001b[1m141s\u001b[0m 309ms/step - loss: 2.0138\n",
            "Epoch 6/20\n",
            "\u001b[1m317/317\u001b[0m \u001b[32m━━━━━━━━━━━━━━━━━━━━\u001b[0m\u001b[37m\u001b[0m \u001b[1m0s\u001b[0m 304ms/step - loss: 1.9581\n",
            " mean perplexity: 8.631592750549316 \n",
            "\n",
            "Saved new model!\n",
            "\u001b[1m317/317\u001b[0m \u001b[32m━━━━━━━━━━━━━━━━━━━━\u001b[0m\u001b[37m\u001b[0m \u001b[1m143s\u001b[0m 312ms/step - loss: 1.9580\n",
            "Epoch 7/20\n",
            "\u001b[1m317/317\u001b[0m \u001b[32m━━━━━━━━━━━━━━━━━━━━\u001b[0m\u001b[37m\u001b[0m \u001b[1m0s\u001b[0m 307ms/step - loss: 1.9154\n",
            " mean perplexity: 8.565662384033203 \n",
            "\n",
            "Saved new model!\n",
            "\u001b[1m317/317\u001b[0m \u001b[32m━━━━━━━━━━━━━━━━━━━━\u001b[0m\u001b[37m\u001b[0m \u001b[1m143s\u001b[0m 315ms/step - loss: 1.9154\n",
            "Epoch 8/20\n",
            "\u001b[1m317/317\u001b[0m \u001b[32m━━━━━━━━━━━━━━━━━━━━\u001b[0m\u001b[37m\u001b[0m \u001b[1m0s\u001b[0m 302ms/step - loss: 1.8832\n",
            " mean perplexity: 8.643965721130371 \n",
            "\n",
            "\u001b[1m317/317\u001b[0m \u001b[32m━━━━━━━━━━━━━━━━━━━━\u001b[0m\u001b[37m\u001b[0m \u001b[1m140s\u001b[0m 310ms/step - loss: 1.8832\n",
            "Epoch 9/20\n",
            "\u001b[1m317/317\u001b[0m \u001b[32m━━━━━━━━━━━━━━━━━━━━\u001b[0m\u001b[37m\u001b[0m \u001b[1m0s\u001b[0m 302ms/step - loss: 1.8557\n",
            " mean perplexity: 8.52114200592041 \n",
            "\n",
            "Saved new model!\n",
            "\u001b[1m317/317\u001b[0m \u001b[32m━━━━━━━━━━━━━━━━━━━━\u001b[0m\u001b[37m\u001b[0m \u001b[1m144s\u001b[0m 318ms/step - loss: 1.8557\n",
            "Epoch 10/20\n",
            "\u001b[1m317/317\u001b[0m \u001b[32m━━━━━━━━━━━━━━━━━━━━\u001b[0m\u001b[37m\u001b[0m \u001b[1m0s\u001b[0m 300ms/step - loss: 1.8305\n",
            " mean perplexity: 8.614806175231934 \n",
            "\n",
            "\u001b[1m317/317\u001b[0m \u001b[32m━━━━━━━━━━━━━━━━━━━━\u001b[0m\u001b[37m\u001b[0m \u001b[1m139s\u001b[0m 308ms/step - loss: 1.8305\n",
            "Epoch 11/20\n",
            "\u001b[1m317/317\u001b[0m \u001b[32m━━━━━━━━━━━━━━━━━━━━\u001b[0m\u001b[37m\u001b[0m \u001b[1m0s\u001b[0m 303ms/step - loss: 1.8121\n",
            " mean perplexity: 8.362414360046387 \n",
            "\n",
            "Saved new model!\n",
            "\u001b[1m317/317\u001b[0m \u001b[32m━━━━━━━━━━━━━━━━━━━━\u001b[0m\u001b[37m\u001b[0m \u001b[1m99s\u001b[0m 311ms/step - loss: 1.8121\n",
            "Epoch 12/20\n",
            "\u001b[1m317/317\u001b[0m \u001b[32m━━━━━━━━━━━━━━━━━━━━\u001b[0m\u001b[37m\u001b[0m \u001b[1m0s\u001b[0m 307ms/step - loss: 1.7948\n",
            " mean perplexity: 8.508723258972168 \n",
            "\n",
            "\u001b[1m317/317\u001b[0m \u001b[32m━━━━━━━━━━━━━━━━━━━━\u001b[0m\u001b[37m\u001b[0m \u001b[1m100s\u001b[0m 315ms/step - loss: 1.7948\n",
            "Epoch 13/20\n",
            "\u001b[1m317/317\u001b[0m \u001b[32m━━━━━━━━━━━━━━━━━━━━\u001b[0m\u001b[37m\u001b[0m \u001b[1m0s\u001b[0m 306ms/step - loss: 1.7818\n",
            " mean perplexity: 8.43048095703125 \n",
            "\n",
            "\u001b[1m317/317\u001b[0m \u001b[32m━━━━━━━━━━━━━━━━━━━━\u001b[0m\u001b[37m\u001b[0m \u001b[1m100s\u001b[0m 314ms/step - loss: 1.7817\n",
            "Epoch 14/20\n",
            "\u001b[1m317/317\u001b[0m \u001b[32m━━━━━━━━━━━━━━━━━━━━\u001b[0m\u001b[37m\u001b[0m \u001b[1m0s\u001b[0m 300ms/step - loss: 1.7707\n",
            " mean perplexity: 8.28066349029541 \n",
            "\n",
            "Saved new model!\n",
            "\u001b[1m317/317\u001b[0m \u001b[32m━━━━━━━━━━━━━━━━━━━━\u001b[0m\u001b[37m\u001b[0m \u001b[1m140s\u001b[0m 308ms/step - loss: 1.7707\n",
            "Epoch 15/20\n",
            "\u001b[1m317/317\u001b[0m \u001b[32m━━━━━━━━━━━━━━━━━━━━\u001b[0m\u001b[37m\u001b[0m \u001b[1m0s\u001b[0m 309ms/step - loss: 1.7594\n",
            " mean perplexity: 8.111444473266602 \n",
            "\n",
            "Saved new model!\n",
            "\u001b[1m317/317\u001b[0m \u001b[32m━━━━━━━━━━━━━━━━━━━━\u001b[0m\u001b[37m\u001b[0m \u001b[1m100s\u001b[0m 317ms/step - loss: 1.7593\n",
            "Epoch 16/20\n",
            "\u001b[1m317/317\u001b[0m \u001b[32m━━━━━━━━━━━━━━━━━━━━\u001b[0m\u001b[37m\u001b[0m \u001b[1m0s\u001b[0m 309ms/step - loss: 1.7482\n",
            " mean perplexity: 8.040292739868164 \n",
            "\n",
            "Saved new model!\n",
            "\u001b[1m317/317\u001b[0m \u001b[32m━━━━━━━━━━━━━━━━━━━━\u001b[0m\u001b[37m\u001b[0m \u001b[1m101s\u001b[0m 317ms/step - loss: 1.7482\n",
            "Epoch 17/20\n",
            "\u001b[1m317/317\u001b[0m \u001b[32m━━━━━━━━━━━━━━━━━━━━\u001b[0m\u001b[37m\u001b[0m \u001b[1m0s\u001b[0m 303ms/step - loss: 1.7395\n",
            " mean perplexity: 8.023778915405273 \n",
            "\n",
            "Saved new model!\n",
            "\u001b[1m317/317\u001b[0m \u001b[32m━━━━━━━━━━━━━━━━━━━━\u001b[0m\u001b[37m\u001b[0m \u001b[1m143s\u001b[0m 319ms/step - loss: 1.7395\n",
            "Epoch 18/20\n",
            "\u001b[1m317/317\u001b[0m \u001b[32m━━━━━━━━━━━━━━━━━━━━\u001b[0m\u001b[37m\u001b[0m \u001b[1m0s\u001b[0m 305ms/step - loss: 1.7312\n",
            " mean perplexity: 7.872646331787109 \n",
            "\n",
            "Saved new model!\n",
            "\u001b[1m317/317\u001b[0m \u001b[32m━━━━━━━━━━━━━━━━━━━━\u001b[0m\u001b[37m\u001b[0m \u001b[1m140s\u001b[0m 314ms/step - loss: 1.7312\n",
            "Epoch 19/20\n",
            "\u001b[1m317/317\u001b[0m \u001b[32m━━━━━━━━━━━━━━━━━━━━\u001b[0m\u001b[37m\u001b[0m \u001b[1m0s\u001b[0m 300ms/step - loss: 1.7227\n",
            " mean perplexity: 7.9160051345825195 \n",
            "\n",
            "\u001b[1m317/317\u001b[0m \u001b[32m━━━━━━━━━━━━━━━━━━━━\u001b[0m\u001b[37m\u001b[0m \u001b[1m141s\u001b[0m 311ms/step - loss: 1.7227\n",
            "Epoch 20/20\n",
            "\u001b[1m317/317\u001b[0m \u001b[32m━━━━━━━━━━━━━━━━━━━━\u001b[0m\u001b[37m\u001b[0m \u001b[1m0s\u001b[0m 304ms/step - loss: 1.7160\n",
            " mean perplexity: 7.9000043869018555 \n",
            "\n",
            "\u001b[1m317/317\u001b[0m \u001b[32m━━━━━━━━━━━━━━━━━━━━\u001b[0m\u001b[37m\u001b[0m \u001b[1m143s\u001b[0m 313ms/step - loss: 1.7160\n"
          ]
        }
      ],
      "source": [
        "# fiteamos, nótese el agregado del callback con su inicialización. El batch_size lo podemos seleccionar a mano\n",
        "# en general, lo mejor es escoger el batch más grande posible que minimice el tiempo de cada época.\n",
        "# En la variable `history_ppl` se guardarán los valores de perplejidad para cada época.\n",
        "history_ppl = []\n",
        "hist = model.fit(X, y, epochs=20, callbacks=[PplCallback(tokenized_sentences_val,history_ppl)], batch_size=256)"
      ]
    },
    {
      "cell_type": "code",
      "execution_count": 30,
      "metadata": {
        "id": "K30JHB3Dv-mx",
        "colab": {
          "base_uri": "https://localhost:8080/",
          "height": 430
        },
        "outputId": "1597815d-41c1-403a-9a15-4fa4bb254dab"
      },
      "outputs": [
        {
          "output_type": "display_data",
          "data": {
            "text/plain": [
              "<Figure size 640x480 with 1 Axes>"
            ],
            "image/png": "[encoded data removed]"
          },
          "metadata": {}
        }
      ],
      "source": [
        "import matplotlib.pyplot as plt\n",
        "import seaborn as sns\n",
        "\n",
        "# Entrenamiento\n",
        "epoch_count = range(1, len(history_ppl) + 1)\n",
        "sns.lineplot(x=epoch_count,  y=history_ppl)\n",
        "plt.show()"
      ]
    },
    {
      "cell_type": "code",
      "execution_count": 31,
      "metadata": {
        "id": "Rhy5hZN38qfO"
      },
      "outputs": [],
      "source": [
        "# Cargamos el mejor modelo guardado del entrenamiento para hacer inferencia\n",
        "model = keras.models.load_model('my_model.keras')"
      ]
    },
    {
      "cell_type": "markdown",
      "metadata": {
        "id": "KN6Fg_BsxJe6"
      },
      "source": [
        "\n",
        "### Predicción del próximo caracter"
      ]
    },
    {
      "cell_type": "code",
      "execution_count": 32,
      "metadata": {
        "id": "IBvKHFPmzpy2",
        "colab": {
          "base_uri": "https://localhost:8080/"
        },
        "outputId": "c74bf590-c294-4e58-b876-44b1ad7e5a38"
      },
      "outputs": [
        {
          "output_type": "stream",
          "name": "stdout",
          "text": [
            "\u001b[2K   \u001b[90m━━━━━━━━━━━━━━━━━━━━━━━━━━━━━━━━━━━━━━━━\u001b[0m \u001b[32m46.9/46.9 MB\u001b[0m \u001b[31m14.6 MB/s\u001b[0m eta \u001b[36m0:00:00\u001b[0m\n",
            "\u001b[2K   \u001b[90m━━━━━━━━━━━━━━━━━━━━━━━━━━━━━━━━━━━━━━━━\u001b[0m \u001b[32m322.6/322.6 kB\u001b[0m \u001b[31m25.6 MB/s\u001b[0m eta \u001b[36m0:00:00\u001b[0m\n",
            "\u001b[2K   \u001b[90m━━━━━━━━━━━━━━━━━━━━━━━━━━━━━━━━━━━━━━━━\u001b[0m \u001b[32m95.2/95.2 kB\u001b[0m \u001b[31m10.3 MB/s\u001b[0m eta \u001b[36m0:00:00\u001b[0m\n",
            "\u001b[2K   \u001b[90m━━━━━━━━━━━━━━━━━━━━━━━━━━━━━━━━━━━━━━━━\u001b[0m \u001b[32m11.5/11.5 MB\u001b[0m \u001b[31m101.6 MB/s\u001b[0m eta \u001b[36m0:00:00\u001b[0m\n",
            "\u001b[2K   \u001b[90m━━━━━━━━━━━━━━━━━━━━━━━━━━━━━━━━━━━━━━━━\u001b[0m \u001b[32m72.0/72.0 kB\u001b[0m \u001b[31m7.4 MB/s\u001b[0m eta \u001b[36m0:00:00\u001b[0m\n",
            "\u001b[2K   \u001b[90m━━━━━━━━━━━━━━━━━━━━━━━━━━━━━━━━━━━━━━━━\u001b[0m \u001b[32m62.5/62.5 kB\u001b[0m \u001b[31m5.6 MB/s\u001b[0m eta \u001b[36m0:00:00\u001b[0m\n",
            "\u001b[?25h"
          ]
        }
      ],
      "source": [
        "# Se puede usar gradio para probar el modelo\n",
        "# Gradio es una herramienta muy útil para crear interfaces para ensayar modelos\n",
        "# https://gradio.app/\n",
        "\n",
        "!pip install -q gradio"
      ]
    },
    {
      "cell_type": "code",
      "execution_count": 33,
      "metadata": {
        "id": "HNyBykvhzs7-",
        "colab": {
          "base_uri": "https://localhost:8080/",
          "height": 1000
        },
        "outputId": "5af96438-370e-48c2-cc8d-649897dee196"
      },
      "outputs": [
        {
          "output_type": "stream",
          "name": "stdout",
          "text": [
            "It looks like you are running Gradio on a hosted a Jupyter notebook. For the Gradio app to work, sharing must be enabled. Automatically setting `share=True` (you can turn this off by setting `share=False` in `launch()` explicitly).\n",
            "\n",
            "Colab notebook detected. This cell will run indefinitely so that you can see errors and logs. To turn off, set debug=False in launch().\n",
            "* Running on public URL: https://03e6c906313eb1b1d7.gradio.live\n",
            "\n",
            "This share link expires in 1 week. For free permanent hosting and GPU upgrades, run `gradio deploy` from the terminal in the working directory to deploy to Hugging Face Spaces (https://huggingface.co/spaces)\n"
          ]
        },
        {
          "output_type": "display_data",
          "data": {
            "text/plain": [
              "<IPython.core.display.HTML object>"
            ],
            "text/html": [
              "<div><iframe src=\"https://03e6c906313eb1b1d7.gradio.live\" width=\"100%\" height=\"500\" allow=\"autoplay; camera; microphone; clipboard-read; clipboard-write;\" frameborder=\"0\" allowfullscreen></iframe></div>"
            ]
          },
          "metadata": {}
        },
        {
          "output_type": "stream",
          "name": "stderr",
          "text": [
            "Traceback (most recent call last):\n",
            "  File \"/usr/local/lib/python3.11/dist-packages/gradio/queueing.py\", line 625, in process_events\n",
            "    response = await route_utils.call_process_api(\n",
            "               ^^^^^^^^^^^^^^^^^^^^^^^^^^^^^^^^^^^\n",
            "  File \"/usr/local/lib/python3.11/dist-packages/gradio/route_utils.py\", line 322, in call_process_api\n",
            "    output = await app.get_blocks().process_api(\n",
            "             ^^^^^^^^^^^^^^^^^^^^^^^^^^^^^^^^^^^\n",
            "  File \"/usr/local/lib/python3.11/dist-packages/gradio/blocks.py\", line 2136, in process_api\n",
            "    result = await self.call_function(\n",
            "             ^^^^^^^^^^^^^^^^^^^^^^^^^\n",
            "  File \"/usr/local/lib/python3.11/dist-packages/gradio/blocks.py\", line 1662, in call_function\n",
            "    prediction = await anyio.to_thread.run_sync(  # type: ignore\n",
            "                 ^^^^^^^^^^^^^^^^^^^^^^^^^^^^^^^^^^^^^^^^^^^^^^^\n",
            "  File \"/usr/local/lib/python3.11/dist-packages/anyio/to_thread.py\", line 56, in run_sync\n",
            "    return await get_async_backend().run_sync_in_worker_thread(\n",
            "           ^^^^^^^^^^^^^^^^^^^^^^^^^^^^^^^^^^^^^^^^^^^^^^^^^^^^\n",
            "  File \"/usr/local/lib/python3.11/dist-packages/anyio/_backends/_asyncio.py\", line 2470, in run_sync_in_worker_thread\n",
            "    return await future\n",
            "           ^^^^^^^^^^^^\n",
            "  File \"/usr/local/lib/python3.11/dist-packages/anyio/_backends/_asyncio.py\", line 967, in run\n",
            "    result = context.run(func, *args)\n",
            "             ^^^^^^^^^^^^^^^^^^^^^^^^\n",
            "  File \"/usr/local/lib/python3.11/dist-packages/gradio/utils.py\", line 884, in wrapper\n",
            "    response = f(*args, **kwargs)\n",
            "               ^^^^^^^^^^^^^^^^^^\n",
            "  File \"<ipython-input-33-0c200f147ffa>\", line 6, in model_response\n",
            "    encoded = [char2idx[ch] for ch in human_text.lower() ]\n",
            "              ^^^^^^^^^^^^^^^^^^^^^^^^^^^^^^^^^^^^^^^^^^^^\n",
            "  File \"<ipython-input-33-0c200f147ffa>\", line 6, in <listcomp>\n",
            "    encoded = [char2idx[ch] for ch in human_text.lower() ]\n",
            "               ~~~~~~~~^^^^\n",
            "KeyError: '\\n'\n"
          ]
        },
        {
          "output_type": "stream",
          "name": "stdout",
          "text": [
            "Keyboard interruption in main thread... closing server.\n",
            "Killing tunnel 127.0.0.1:7860 <> https://03e6c906313eb1b1d7.gradio.live\n"
          ]
        },
        {
          "output_type": "execute_result",
          "data": {
            "text/plain": []
          },
          "metadata": {},
          "execution_count": 33
        }
      ],
      "source": [
        "import gradio as gr\n",
        "\n",
        "def model_response(human_text):\n",
        "\n",
        "    # Encodeamos\n",
        "    encoded = [char2idx[ch] for ch in human_text.lower() ]\n",
        "    # Si tienen distinto largo\n",
        "    encoded = pad_sequences([encoded], maxlen=max_context_size, padding='pre')\n",
        "\n",
        "    # Predicción softmax\n",
        "    y_hat = np.argmax(model.predict(encoded)[0,-1,:])\n",
        "\n",
        "\n",
        "    # Debemos buscar en el vocabulario el caracter\n",
        "    # que corresopnde al indice (y_hat) predicho por le modelo\n",
        "    out_word = ''\n",
        "    out_word = idx2char[y_hat]\n",
        "\n",
        "    # Agrego la palabra a la frase predicha\n",
        "    return human_text + out_word\n",
        "\n",
        "iface = gr.Interface(\n",
        "    fn=model_response,\n",
        "    inputs=[\"textbox\"],\n",
        "    outputs=\"text\")\n",
        "\n",
        "iface.launch(debug=True)"
      ]
    },
    {
      "cell_type": "markdown",
      "metadata": {
        "id": "mCeMWWupxN1-"
      },
      "source": [
        "### Generación de secuencias"
      ]
    },
    {
      "cell_type": "code",
      "execution_count": 34,
      "metadata": {
        "id": "bwbS_pfhxvB3"
      },
      "outputs": [],
      "source": [
        "def generate_seq(model, seed_text, max_length, n_words):\n",
        "    \"\"\"\n",
        "        Exec model sequence prediction\n",
        "\n",
        "        Args:\n",
        "            model (keras): modelo entrenado\n",
        "            seed_text (string): texto de entrada (input_seq)\n",
        "            max_length (int): máxima longitud de la sequencia de entrada\n",
        "            n_words (int): números de caracteres a agregar a la sequencia de entrada\n",
        "        returns:\n",
        "            output_text (string): sentencia con las \"n_words\" agregadas\n",
        "    \"\"\"\n",
        "    output_text = seed_text\n",
        "\t# generate a fixed number of words\n",
        "    for _ in range(n_words):\n",
        "\t\t# Encodeamos\n",
        "        encoded = [char2idx[ch] for ch in output_text.lower() ]\n",
        "\t\t# Si tienen distinto largo\n",
        "        encoded = pad_sequences([encoded], maxlen=max_length, padding='pre')\n",
        "\n",
        "\t\t# Predicción softmax\n",
        "        y_hat = np.argmax(model.predict(encoded,verbose=0)[0,-1,:])\n",
        "\t\t# Vamos concatenando las predicciones\n",
        "        out_word = ''\n",
        "\n",
        "        out_word = idx2char[y_hat]\n",
        "\n",
        "\t\t# Agrego las palabras a la frase predicha\n",
        "        output_text += out_word\n",
        "    return output_text"
      ]
    },
    {
      "cell_type": "code",
      "execution_count": 37,
      "metadata": {
        "id": "JoFqRC5pxzqS",
        "colab": {
          "base_uri": "https://localhost:8080/",
          "height": 36
        },
        "outputId": "3052b157-9cda-45f5-be31-8249d5aeb301"
      },
      "outputs": [
        {
          "output_type": "execute_result",
          "data": {
            "text/plain": [
              "'Case was a sure of the bar the part of the bar the par'"
            ],
            "application/vnd.google.colaboratory.intrinsic+json": {
              "type": "string"
            }
          },
          "metadata": {},
          "execution_count": 37
        }
      ],
      "source": [
        "input_text='Case'\n",
        "\n",
        "generate_seq(model, input_text, max_length=max_context_size, n_words=50)"
      ]
    },
    {
      "cell_type": "markdown",
      "source": [
        "Funcionaba mejor con palabras en vez de caracteres sueltos como era de esperarse."
      ],
      "metadata": {
        "id": "7EHeniwGbwZQ"
      }
    },
    {
      "cell_type": "markdown",
      "metadata": {
        "id": "drJ6xn5qW1Hl"
      },
      "source": [
        "###  Beam search y muestreo aleatorio"
      ]
    },
    {
      "cell_type": "code",
      "execution_count": 38,
      "metadata": {
        "id": "_vovn9XZW1Hl"
      },
      "outputs": [],
      "source": [
        "# funcionalidades para hacer encoding y decoding\n",
        "\n",
        "def encode(text,max_length=max_context_size):\n",
        "\n",
        "    encoded = [char2idx[ch] for ch in text]\n",
        "    encoded = pad_sequences([encoded], maxlen=max_length, padding='pre')\n",
        "\n",
        "    return encoded\n",
        "\n",
        "def decode(seq):\n",
        "    return ''.join([idx2char[ch] for ch in seq])"
      ]
    },
    {
      "cell_type": "code",
      "execution_count": 39,
      "metadata": {
        "id": "I_lZiQwkW1Hl"
      },
      "outputs": [],
      "source": [
        "from scipy.special import softmax\n",
        "\n",
        "# función que selecciona candidatos para el beam search\n",
        "def select_candidates(pred,num_beams,vocab_size,history_probs,history_tokens,temp,mode):\n",
        "\n",
        "  # colectar todas las probabilidades para la siguiente búsqueda\n",
        "  pred_large = []\n",
        "\n",
        "  for idx,pp in enumerate(pred):\n",
        "    pred_large.extend(np.log(pp+1E-10)+history_probs[idx])\n",
        "\n",
        "  pred_large = np.array(pred_large)\n",
        "\n",
        "  # criterio de selección\n",
        "  if mode == 'det':\n",
        "    idx_select = np.argsort(pred_large)[::-1][:num_beams] # beam search determinista\n",
        "  elif mode == 'sto':\n",
        "    idx_select = np.random.choice(np.arange(pred_large.shape[0]), num_beams, p=softmax(pred_large/temp)) # beam search con muestreo aleatorio\n",
        "  else:\n",
        "    raise ValueError(f'Wrong selection mode. {mode} was given. det and sto are supported.')\n",
        "\n",
        "  # traducir a índices de token en el vocabulario\n",
        "  new_history_tokens = np.concatenate((np.array(history_tokens)[idx_select//vocab_size],\n",
        "                        np.array([idx_select%vocab_size]).T),\n",
        "                      axis=1)\n",
        "\n",
        "  # devolver el producto de las probabilidades (log) y la secuencia de tokens seleccionados\n",
        "  return pred_large[idx_select.astype(int)], new_history_tokens.astype(int)\n",
        "\n",
        "\n",
        "def beam_search(model,num_beams,num_words,input,temp=1,mode='det'):\n",
        "\n",
        "    # first iteration\n",
        "\n",
        "    # encode\n",
        "    encoded = encode(input)\n",
        "\n",
        "    # first prediction\n",
        "    y_hat = model.predict(encoded,verbose=0)[0,-1,:]\n",
        "\n",
        "    # get vocabulary size\n",
        "    vocab_size = y_hat.shape[0]\n",
        "\n",
        "    # initialize history\n",
        "    history_probs = [0]*num_beams\n",
        "    history_tokens = [encoded[0]]*num_beams\n",
        "\n",
        "    # select num_beams candidates\n",
        "    history_probs, history_tokens = select_candidates([y_hat],\n",
        "                                        num_beams,\n",
        "                                        vocab_size,\n",
        "                                        history_probs,\n",
        "                                        history_tokens,\n",
        "                                        temp,\n",
        "                                        mode)\n",
        "\n",
        "    # beam search loop\n",
        "    for i in range(num_words-1):\n",
        "\n",
        "      preds = []\n",
        "\n",
        "      for hist in history_tokens:\n",
        "\n",
        "        # actualizar secuencia de tokens\n",
        "        input_update = np.array([hist[i+1:]]).copy()\n",
        "\n",
        "        # predicción\n",
        "        y_hat = model.predict(input_update,verbose=0)[0,-1,:]\n",
        "\n",
        "        preds.append(y_hat)\n",
        "\n",
        "      history_probs, history_tokens = select_candidates(preds,\n",
        "                                                        num_beams,\n",
        "                                                        vocab_size,\n",
        "                                                        history_probs,\n",
        "                                                        history_tokens,\n",
        "                                                        temp,\n",
        "                                                        mode)\n",
        "\n",
        "    return history_tokens[:,-(len(input)+num_words):]"
      ]
    },
    {
      "cell_type": "code",
      "execution_count": 54,
      "metadata": {
        "id": "GeLqAoOYW1Hm"
      },
      "outputs": [],
      "source": [
        "# predicción con beam search\n",
        "salidas = beam_search(model,num_beams=10,num_words=100,input=\"The plan was simple, first\")"
      ]
    },
    {
      "cell_type": "code",
      "execution_count": 55,
      "metadata": {
        "id": "P8HQoLhw-NYg",
        "colab": {
          "base_uri": "https://localhost:8080/"
        },
        "outputId": "2da92dc2-a9f8-467c-a2f8-8dfaa3814de5"
      },
      "outputs": [
        {
          "output_type": "execute_result",
          "data": {
            "text/plain": [
              "array([33, 53, 50, 17, 25,  9, 32, 59, 17, 52, 32, 49, 17, 49,  3,  5, 25,\n",
              "        9, 50,  1, 17, 13,  3, 31, 49, 48, 17, 13, 31, 28,  5, 17, 48, 53,\n",
              "       50, 17, 25,  9, 32, 49, 48,  3, 66, 17, 13, 28, 31, 17, 48, 53, 50,\n",
              "       17, 25,  9, 32, 49, 48,  3, 66, 17, 13, 28, 31, 17, 48, 53, 50, 17,\n",
              "       25,  9, 32, 49, 48,  3, 66, 17, 13, 28, 31, 17, 48, 53, 50, 17, 25,\n",
              "        9, 32, 49, 48,  3, 66, 17, 13, 28, 31, 17, 48, 53, 50, 17, 25,  9,\n",
              "       32, 49, 48,  3, 66, 17, 13, 28, 31, 17, 48, 53, 50, 17, 18,  9, 32,\n",
              "       66, 20, 17, 45, 32, 66, 20])"
            ]
          },
          "metadata": {},
          "execution_count": 55
        }
      ],
      "source": [
        "salidas[0]"
      ]
    },
    {
      "cell_type": "code",
      "execution_count": 56,
      "metadata": {
        "id": "2S3_I3S1W1Hm",
        "colab": {
          "base_uri": "https://localhost:8080/"
        },
        "outputId": "46c745fe-a03d-409c-b8ed-d5f035ee3a4f"
      },
      "outputs": [
        {
          "output_type": "stream",
          "name": "stdout",
          "text": [
            "The plan was simple, first from the plastic for the plastic for the plastic for the plastic for the plastic for the black jack\n",
            "The plan was simple, first from the plastic for the plastic for the plastic for the plastic for the plastic for the black and \n",
            "The plan was simple, first from the plastic for the plastic for the plastic for the plastic for the plastic for the plastic th\n",
            "The plan was simple, first from the plastic for the plastic for the plastic for the plastic for the plastic for the pocket. Th\n",
            "The plan was simple, first from the plastic for the plastic for the plastic for the plastic for the plastic for the plastic do\n",
            "The plan was simple, first from the plastic for the plastic for the plastic for the plastic for the plastic for the plastic fo\n",
            "The plan was simple, first from the plastic for the plastic for the plastic for the plastic for the plastic for the place of t\n",
            "The plan was simple, first from the plastic for the plastic for the plastic for the plastic for the plastic for the plastic. \"\n",
            "The plan was simple, first from the plastic for the plastic for the plastic for the plastic for the plastic for the plastic to\n",
            "The plan was simple, first from the plastic for the plastic for the plastic for the plastic for the plastic for the plastic su\n"
          ]
        }
      ],
      "source": [
        "for i in range(10):\n",
        "  print(decode(salidas[i]))"
      ]
    },
    {
      "cell_type": "markdown",
      "metadata": {
        "id": "Q_LlqmtEW1Hn"
      },
      "source": [
        "Puede que el modelo este sobre entrenado, capaz que agregando capaz de normalización podría mejorar el desempeño\n"
      ]
    }
  ],
  "metadata": {
    "colab": {
      "gpuType": "T4",
      "provenance": []
    },
    "kernelspec": {
      "display_name": "Python 3",
      "name": "python3"
    },
    "language_info": {
      "name": "python"
    }
  },
  "nbformat": 4,
  "nbformat_minor": 0
}